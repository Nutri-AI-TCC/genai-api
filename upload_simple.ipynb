{
 "cells": [
  {
   "cell_type": "code",
   "execution_count": 1,
   "id": "bee159bd",
   "metadata": {},
   "outputs": [
    {
     "name": "stdout",
     "output_type": "stream",
     "text": [
      "Defaulting to user installation because normal site-packages is not writeable\n",
      "Collecting pinecone\n",
      "  Downloading pinecone-7.3.0-py3-none-any.whl.metadata (9.5 kB)\n",
      "Requirement already satisfied: certifi>=2019.11.17 in /usr/local/lib/python3.12/dist-packages (from pinecone) (2025.7.9)\n",
      "Collecting pinecone-plugin-assistant<2.0.0,>=1.6.0 (from pinecone)\n",
      "  Downloading pinecone_plugin_assistant-1.7.0-py3-none-any.whl.metadata (28 kB)\n",
      "Collecting pinecone-plugin-interface<0.0.8,>=0.0.7 (from pinecone)\n",
      "  Downloading pinecone_plugin_interface-0.0.7-py3-none-any.whl.metadata (1.2 kB)\n",
      "Requirement already satisfied: python-dateutil>=2.5.3 in /usr/local/lib/python3.12/dist-packages (from pinecone) (2.9.0.post0)\n",
      "Requirement already satisfied: typing-extensions>=3.7.4 in /usr/local/lib/python3.12/dist-packages (from pinecone) (4.14.1)\n",
      "Requirement already satisfied: urllib3>=1.26.5 in /usr/local/lib/python3.12/dist-packages (from pinecone) (2.5.0)\n",
      "Collecting packaging<25.0,>=24.2 (from pinecone-plugin-assistant<2.0.0,>=1.6.0->pinecone)\n",
      "  Downloading packaging-24.2-py3-none-any.whl.metadata (3.2 kB)\n",
      "Requirement already satisfied: requests<3.0.0,>=2.32.3 in /usr/local/lib/python3.12/dist-packages (from pinecone-plugin-assistant<2.0.0,>=1.6.0->pinecone) (2.32.4)\n",
      "Requirement already satisfied: six>=1.5 in /usr/local/lib/python3.12/dist-packages (from python-dateutil>=2.5.3->pinecone) (1.17.0)\n",
      "Requirement already satisfied: charset_normalizer<4,>=2 in /usr/local/lib/python3.12/dist-packages (from requests<3.0.0,>=2.32.3->pinecone-plugin-assistant<2.0.0,>=1.6.0->pinecone) (3.4.2)\n",
      "Requirement already satisfied: idna<4,>=2.5 in /usr/local/lib/python3.12/dist-packages (from requests<3.0.0,>=2.32.3->pinecone-plugin-assistant<2.0.0,>=1.6.0->pinecone) (3.10)\n",
      "Downloading pinecone-7.3.0-py3-none-any.whl (587 kB)\n",
      "\u001b[2K   \u001b[90m━━━━━━━━━━━━━━━━━━━━━━━━━━━━━━━━━━━━━━━━\u001b[0m \u001b[32m587.6/587.6 kB\u001b[0m \u001b[31m10.5 MB/s\u001b[0m eta \u001b[36m0:00:00\u001b[0ma \u001b[36m0:00:01\u001b[0m\n",
      "\u001b[?25hDownloading pinecone_plugin_assistant-1.7.0-py3-none-any.whl (239 kB)\n",
      "\u001b[2K   \u001b[90m━━━━━━━━━━━━━━━━━━━━━━━━━━━━━━━━━━━━━━━━\u001b[0m \u001b[32m240.0/240.0 kB\u001b[0m \u001b[31m12.9 MB/s\u001b[0m eta \u001b[36m0:00:00\u001b[0m\n",
      "\u001b[?25hDownloading pinecone_plugin_interface-0.0.7-py3-none-any.whl (6.2 kB)\n",
      "Downloading packaging-24.2-py3-none-any.whl (65 kB)\n",
      "\u001b[2K   \u001b[90m━━━━━━━━━━━━━━━━━━━━━━━━━━━━━━━━━━━━━━━━\u001b[0m \u001b[32m65.5/65.5 kB\u001b[0m \u001b[31m5.3 MB/s\u001b[0m eta \u001b[36m0:00:00\u001b[0m\n",
      "\u001b[?25hInstalling collected packages: pinecone-plugin-interface, packaging, pinecone-plugin-assistant, pinecone\n",
      "Successfully installed packaging-24.2 pinecone-7.3.0 pinecone-plugin-assistant-1.7.0 pinecone-plugin-interface-0.0.7\n",
      "Note: you may need to restart the kernel to use updated packages.\n"
     ]
    }
   ],
   "source": [
    "pip install pinecone"
   ]
  },
  {
   "cell_type": "code",
   "execution_count": 2,
   "id": "21857c59",
   "metadata": {},
   "outputs": [],
   "source": [
    "from pinecone import Pinecone\n"
   ]
  },
  {
   "cell_type": "code",
   "execution_count": 2,
   "id": "a8390036",
   "metadata": {},
   "outputs": [
    {
     "data": {
      "text/plain": [
       "{\n",
       "    \"name\": \"teste\",\n",
       "    \"metric\": \"cosine\",\n",
       "    \"host\": \"teste-kg31ntv.svc.aped-4627-b74a.pinecone.io\",\n",
       "    \"spec\": {\n",
       "        \"serverless\": {\n",
       "            \"cloud\": \"aws\",\n",
       "            \"region\": \"us-east-1\"\n",
       "        }\n",
       "    },\n",
       "    \"status\": {\n",
       "        \"ready\": true,\n",
       "        \"state\": \"Ready\"\n",
       "    },\n",
       "    \"vector_type\": \"dense\",\n",
       "    \"dimension\": 1024,\n",
       "    \"deletion_protection\": \"disabled\",\n",
       "    \"tags\": null\n",
       "}"
      ]
     },
     "execution_count": 2,
     "metadata": {},
     "output_type": "execute_result"
    }
   ],
   "source": [
    "from pinecone.grpc import PineconeGRPC as Pinecone\n",
    "from pinecone import ServerlessSpec\n",
    "\n",
    "pc = Pinecone(api_key=\"pcsk_5RSTcB_8GfPp22T2dhbtGz59ihsbPZQnG6HHnia2QJosnBy22T8ZTu1wdcwhqdWqhRrUcm\")\n",
    "\n",
    "pc.create_index(\n",
    "  name=\"teste\",\n",
    "  dimension=1024,\n",
    "  metric=\"cosine\",\n",
    "  spec=ServerlessSpec(\n",
    "    cloud=\"aws\",\n",
    "    region=\"us-east-1\"\n",
    "  )\n",
    ")"
   ]
  },
  {
   "cell_type": "code",
   "execution_count": 3,
   "id": "5f0d241a",
   "metadata": {},
   "outputs": [],
   "source": [
    "index = pc.Index(\n",
    "    name=\"teste\" # <-- make sure to set these\n",
    ")"
   ]
  },
  {
   "cell_type": "code",
   "execution_count": 7,
   "id": "78e75875",
   "metadata": {},
   "outputs": [
    {
     "name": "stdout",
     "output_type": "stream",
     "text": [
      "Enviando lote de 4 vetores...\n",
      "Indexação com Cohere Embeddings concluída!\n",
      "{'dimension': 1024,\n",
      " 'index_fullness': 0.0,\n",
      " 'namespaces': {'': {'vector_count': 0}},\n",
      " 'total_vector_count': 0}\n"
     ]
    }
   ],
   "source": [
    "import cohere\n",
    "from pinecone import Pinecone\n",
    "\n",
    "\n",
    "\n",
    "# 1. CONEXÕES\n",
    "co = cohere.Client(api_key=\"RAjqpE9uTVFfTTaF0RIGUM4PaKBeQ7insNIu9KLC\") # Cliente do Cohere\n",
    "\n",
    "# Conecta ao seu índice\n",
    "index = pc.Index(\"teste\") # Use o nome do seu índice\n",
    "\n",
    "# 2. SEUS DOCUMENTOS (os \"chunks\" ou pedaços)\n",
    "textos_dos_documentos = [\n",
    "    \"A Lei Geral de Proteção de Dados (LGPD) tem como principal objetivo proteger os direitos fundamentais de liberdade e de privacidade...\",\n",
    "    \"Um dos maiores desafios da LGPD foi a necessidade de as empresas adaptarem seus processos internos...\",\n",
    "    \"O Marco Civil da Internet estabelece princípios, garantias, direitos e deveres para o uso da Internet no Brasil.\",\n",
    "    \"o nome do personagem é Pedro.\"\n",
    "]\n",
    "\n",
    "# 3. GERAR EMBEDDINGS E FAZER UPSERT\n",
    "response = co.embed(\n",
    "    texts=textos_dos_documentos,\n",
    "    model='embed-multilingual-v3.0', # Modelo para múltiplos idiomas\n",
    " \n",
    "    input_type='search_document' \n",
    ")\n",
    "\n",
    "embeddings = response.embeddings\n",
    "\n",
    "# Preparar os dados para o upsert\n",
    "vectors_to_upsert = []\n",
    "for i, embedding in enumerate(embeddings):\n",
    "    vectors_to_upsert.append({\n",
    "        \"id\": f\"doc-chunk-{i}\", # Crie IDs únicos\n",
    "        \"values\": embedding,\n",
    "        \"metadata\": {\"texto\": textos_dos_documentos[i]}\n",
    "    })\n",
    "index.delete(delete_all=True)\n",
    "\n",
    "# Fazer o upsert em lote\n",
    "print(f\"Enviando lote de {len(vectors_to_upsert)} vetores...\")\n",
    "index.upsert(vectors=vectors_to_upsert)\n",
    "\n",
    "print(\"Indexação com Cohere Embeddings concluída!\")\n",
    "print(index.describe_index_stats())"
   ]
  }
 ],
 "metadata": {
  "kernelspec": {
   "display_name": "Python 3",
   "language": "python",
   "name": "python3"
  },
  "language_info": {
   "codemirror_mode": {
    "name": "ipython",
    "version": 3
   },
   "file_extension": ".py",
   "mimetype": "text/x-python",
   "name": "python",
   "nbconvert_exporter": "python",
   "pygments_lexer": "ipython3",
   "version": "3.12.3"
  }
 },
 "nbformat": 4,
 "nbformat_minor": 5
}
