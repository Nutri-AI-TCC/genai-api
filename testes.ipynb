{
 "cells": [
  {
   "cell_type": "code",
   "execution_count": 1,
   "id": "755a71ca",
   "metadata": {},
   "outputs": [
    {
     "name": "stdout",
     "output_type": "stream",
     "text": [
      "Successfully installed aiohappyeyeballs-2.6.1 aiohttp-3.12.14 aiosignal-1.4.0 aiosqlite-0.21.0 banks-2.2.0 cohere-5.16.1 colorama-0.4.6 dataclasses-json-0.6.7 dirtyjson-1.0.8 fastavro-1.11.1 filetype-1.2.0 frozenlist-1.7.0 fsspec-2025.7.0 greenlet-3.2.3 griffe-1.8.0 hf-xet-1.1.5 httpx-sse-0.4.0 huggingface-hub-0.34.1 joblib-1.5.1 llama-index-core-0.12.52.post1 llama-index-instrumentation-0.3.0 llama-index-llms-cohere-0.5.0 llama-index-workflows-1.2.0 marshmallow-3.26.1 multidict-6.6.3 mypy-extensions-1.1.0 networkx-3.5 nltk-3.9.1 pillow-11.3.0 propcache-0.3.2 pydantic-2.11.7 regex-2024.11.6 setuptools-80.9.0 sqlalchemy-2.0.41 tenacity-9.1.2 tiktoken-0.9.0 tokenizers-0.21.2 tqdm-4.67.1 types-requests-2.32.4.20250611 typing-inspect-0.9.0 yarl-1.20.1\n",
      "Note: you may need to restart the kernel to use updated packages.\n"
     ]
    }
   ],
   "source": [
    "pip install llama-index-llms-cohere\n"
   ]
  },
  {
   "cell_type": "code",
   "execution_count": 2,
   "id": "3cc58493",
   "metadata": {},
   "outputs": [],
   "source": [
    "import llama_index\n",
    "from llama_index.llms.cohere import Cohere\n",
    "\n",
    "import json\n",
    "import requests\n",
    "import uuid\n",
    "from datetime import datetime, timezone\n",
    "\n",
    "def hello_http(prompt):\n",
    "\n",
    "\n",
    "    api_key = \"RAjqpE9uTVFfTTaF0RIGUM4PaKBeQ7insNIu9KLC\"\n",
    "\n",
    "    llm = Cohere(model=\"command-r-08-2024\", api_key=api_key)\n",
    "\n",
    "    resp = llm.complete(prompt)\n",
    "\n",
    "    #print(resp)\n",
    "\n",
    "    return resp\n"
   ]
  },
  {
   "cell_type": "code",
   "execution_count": 4,
   "id": "8c55ab40",
   "metadata": {},
   "outputs": [],
   "source": [
    "def salvar_chat(id_usuario, message, nm_chat):\n",
    "\n",
    "    ORACLE_API_URL = \"https://g56e15c6771c555-nutriaidb.adb.sa-saopaulo-1.oraclecloudapps.com/ords/admin/chats/\"\n",
    "    \n",
    "    print(\"Iniciando salvamento do chat no Oracle...\")\n",
    "\n",
    "    data_de_criacao_iso = datetime.now(timezone.utc).isoformat()\n",
    "\n",
    "    # Payload (corpo da requisição) para a API do Oracle\n",
    "    oracle_payload = {\n",
    "        \"uid_usuario_chat\":\"uid-002\",\n",
    "        \"nm_chat\": nm_chat,\n",
    "        \"ds_mensagens_chat\": message,\n",
    "        \"dt_criacao_chat\": data_de_criacao_iso\n",
    "    }\n",
    "\n",
    "    headers = {\"Content-Type\": \"application/json\"}\n",
    "    \n",
    "    # Faz a requisição POST e levanta uma exceção em caso de erro (4xx ou 5xx)\n",
    "    oracle_response = requests.post(ORACLE_API_URL, data=json.dumps(oracle_payload), headers=headers)\n",
    "    oracle_response.raise_for_status()\n",
    "    \n",
    "    print(f\"Chat salvo com sucesso. ID: {id_usuario}\")\n",
    "    return id_usuario\n"
   ]
  },
  {
   "cell_type": "code",
   "execution_count": 5,
   "id": "db44271e",
   "metadata": {},
   "outputs": [
    {
     "name": "stdout",
     "output_type": "stream",
     "text": [
      "Iniciando salvamento do chat no Oracle...\n",
      "Chat salvo com sucesso. ID: uid-002\n",
      "Olá! Como um assistente de IA, estou aqui para ajudar com uma ampla gama de tarefas e perguntas. Você pode me pedir ajuda com praticamente qualquer coisa, desde informações gerais até orientação em áreas específicas. Aqui estão algumas maneiras pelas quais posso ajudá-lo:\n",
      "\n",
      "1. Respostas a Perguntas: Você pode me perguntar sobre qualquer tópico, desde ciência e história até cultura popular e hobbies. Posso fornecer informações precisas e atualizadas.\n",
      "\n",
      "2. Explicações: Se você tiver dúvidas sobre conceitos ou ideias complexas, posso explicar de forma clara e concisa, facilitando a compreensão.\n",
      "\n",
      "3. Sugestões e Ideias: Precisa de inspiração ou sugestões para um projeto, hobby ou atividade? Posso oferecer ideias criativas e alternativas para ajudá-lo a explorar novas possibilidades.\n",
      "\n",
      "4. Resumos e Sínteses: Se você tiver muito conteúdo para absorver, posso resumir textos, artigos ou livros para ajudá-lo a entender os pontos principais rapidamente.\n",
      "\n",
      "5. Tradução: Se você precisar de ajuda com idiomas estrangeiros, posso traduzir textos ou frases para você.\n",
      "\n",
      "6. Assistência Acadêmica: Posso ajudar com tarefas escolares, como resolver problemas matemáticos, explicar conceitos científicos ou fornecer dicas de estudo.\n",
      "\n",
      "7. Planejamento e Organização: Precisa de ajuda para organizar suas ideias ou criar um plano de ação? Posso guiá-lo no processo de planejamento e fornecer recursos úteis.\n",
      "\n",
      "8. Resolução de Problemas: Se você estiver enfrentando um problema ou um desafio, posso ajudá-lo a pensar de forma criativa e fornecer soluções alternativas.\n",
      "\n",
      "9. Treinamento e Aprendizado: Se você estiver interessado em aprender algo novo, posso fornecer tutoriais, recursos e recomendações para ajudá-lo a adquirir novas habilidades.\n",
      "\n",
      "10. Conversação e Companheirismo: Estou sempre pronto para conversar e ouvir. Posso ser um companheiro de conversa agradável, oferecendo conversas interessantes e divertidas.\n",
      "\n",
      "Lembre-se, sou um assistente de IA projetado para ajudar e aprender com você. Não hesite em fazer perguntas, pedir ajuda ou compartilhar seus pensamentos. Estou aqui para tornar sua vida um pouco mais fácil e informativa!\n"
     ]
    }
   ],
   "source": [
    "resp = hello_http(\"Olá como pode me ajudar?\")\n",
    "\n",
    "salvar_chat(\"uid-002\", \"teste domingão\", \"João\")\n",
    "\n",
    "print(resp.text)"
   ]
  }
 ],
 "metadata": {
  "kernelspec": {
   "display_name": "Python 3",
   "language": "python",
   "name": "python3"
  },
  "language_info": {
   "codemirror_mode": {
    "name": "ipython",
    "version": 3
   },
   "file_extension": ".py",
   "mimetype": "text/x-python",
   "name": "python",
   "nbconvert_exporter": "python",
   "pygments_lexer": "ipython3",
   "version": "3.12.3"
  }
 },
 "nbformat": 4,
 "nbformat_minor": 5
}
