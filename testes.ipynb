{
 "cells": [
  {
   "cell_type": "code",
   "execution_count": 1,
   "id": "755a71ca",
   "metadata": {},
   "outputs": [
    {
     "name": "stdout",
     "output_type": "stream",
     "text": [
      "Successfully installed aiohappyeyeballs-2.6.1 aiohttp-3.12.14 aiosignal-1.4.0 aiosqlite-0.21.0 banks-2.2.0 cohere-5.16.1 colorama-0.4.6 dataclasses-json-0.6.7 dirtyjson-1.0.8 fastavro-1.11.1 filetype-1.2.0 frozenlist-1.7.0 fsspec-2025.7.0 greenlet-3.2.3 griffe-1.8.0 hf-xet-1.1.5 httpx-sse-0.4.0 huggingface-hub-0.34.1 joblib-1.5.1 llama-index-core-0.12.52.post1 llama-index-instrumentation-0.3.0 llama-index-llms-cohere-0.5.0 llama-index-workflows-1.2.0 marshmallow-3.26.1 multidict-6.6.3 mypy-extensions-1.1.0 networkx-3.5 nltk-3.9.1 pillow-11.3.0 propcache-0.3.2 pydantic-2.11.7 regex-2024.11.6 setuptools-80.9.0 sqlalchemy-2.0.41 tenacity-9.1.2 tiktoken-0.9.0 tokenizers-0.21.2 tqdm-4.67.1 types-requests-2.32.4.20250611 typing-inspect-0.9.0 yarl-1.20.1\n",
      "Note: you may need to restart the kernel to use updated packages.\n"
     ]
    }
   ],
   "source": [
    "pip install llama-index-llms-cohere\n"
   ]
  },
  {
   "cell_type": "code",
   "execution_count": 3,
   "id": "3cc58493",
   "metadata": {},
   "outputs": [
    {
     "ename": "ModuleNotFoundError",
     "evalue": "No module named 'deprecated'",
     "output_type": "error",
     "traceback": [
      "\u001b[31m---------------------------------------------------------------------------\u001b[39m",
      "\u001b[31mModuleNotFoundError\u001b[39m                       Traceback (most recent call last)",
      "\u001b[36mCell\u001b[39m\u001b[36m \u001b[39m\u001b[32mIn[3]\u001b[39m\u001b[32m, line 2\u001b[39m\n\u001b[32m      1\u001b[39m \u001b[38;5;28;01mimport\u001b[39;00m\u001b[38;5;250m \u001b[39m\u001b[34;01mllama_index\u001b[39;00m\n\u001b[32m----> \u001b[39m\u001b[32m2\u001b[39m \u001b[38;5;28;01mfrom\u001b[39;00m\u001b[38;5;250m \u001b[39m\u001b[34;01mllama_index\u001b[39;00m\u001b[34;01m.\u001b[39;00m\u001b[34;01mllms\u001b[39;00m\u001b[34;01m.\u001b[39;00m\u001b[34;01mcohere\u001b[39;00m\u001b[38;5;250m \u001b[39m\u001b[38;5;28;01mimport\u001b[39;00m Cohere\n\u001b[32m      4\u001b[39m \u001b[38;5;28;01mimport\u001b[39;00m\u001b[38;5;250m \u001b[39m\u001b[34;01mjson\u001b[39;00m\n\u001b[32m      5\u001b[39m \u001b[38;5;28;01mimport\u001b[39;00m\u001b[38;5;250m \u001b[39m\u001b[34;01mrequests\u001b[39;00m\n",
      "\u001b[36mFile \u001b[39m\u001b[32m~/.local/lib/python3.12/site-packages/llama_index/llms/cohere/__init__.py:1\u001b[39m\n\u001b[32m----> \u001b[39m\u001b[32m1\u001b[39m \u001b[38;5;28;01mfrom\u001b[39;00m\u001b[38;5;250m \u001b[39m\u001b[34;01mllama_index\u001b[39;00m\u001b[34;01m.\u001b[39;00m\u001b[34;01mllms\u001b[39;00m\u001b[34;01m.\u001b[39;00m\u001b[34;01mcohere\u001b[39;00m\u001b[34;01m.\u001b[39;00m\u001b[34;01mbase\u001b[39;00m\u001b[38;5;250m \u001b[39m\u001b[38;5;28;01mimport\u001b[39;00m Cohere\n\u001b[32m      2\u001b[39m \u001b[38;5;28;01mfrom\u001b[39;00m\u001b[38;5;250m \u001b[39m\u001b[34;01mllama_index\u001b[39;00m\u001b[34;01m.\u001b[39;00m\u001b[34;01mllms\u001b[39;00m\u001b[34;01m.\u001b[39;00m\u001b[34;01mcohere\u001b[39;00m\u001b[34;01m.\u001b[39;00m\u001b[34;01mutils\u001b[39;00m\u001b[38;5;250m \u001b[39m\u001b[38;5;28;01mimport\u001b[39;00m (\n\u001b[32m      3\u001b[39m     COHERE_QA_TEMPLATE,\n\u001b[32m      4\u001b[39m     COHERE_REFINE_TEMPLATE,\n\u001b[32m   (...)\u001b[39m\u001b[32m      8\u001b[39m     is_cohere_model,\n\u001b[32m      9\u001b[39m )\n\u001b[32m     11\u001b[39m __all__ = [\n\u001b[32m     12\u001b[39m     \u001b[33m\"\u001b[39m\u001b[33mCOHERE_QA_TEMPLATE\u001b[39m\u001b[33m\"\u001b[39m,\n\u001b[32m     13\u001b[39m     \u001b[33m\"\u001b[39m\u001b[33mCOHERE_REFINE_TEMPLATE\u001b[39m\u001b[33m\"\u001b[39m,\n\u001b[32m   (...)\u001b[39m\u001b[32m     18\u001b[39m     \u001b[33m\"\u001b[39m\u001b[33mCohere\u001b[39m\u001b[33m\"\u001b[39m,\n\u001b[32m     19\u001b[39m ]\n",
      "\u001b[36mFile \u001b[39m\u001b[32m~/.local/lib/python3.12/site-packages/llama_index/llms/cohere/base.py:4\u001b[39m\n\u001b[32m      1\u001b[39m \u001b[38;5;28;01mimport\u001b[39;00m\u001b[38;5;250m \u001b[39m\u001b[34;01mwarnings\u001b[39;00m\n\u001b[32m      2\u001b[39m \u001b[38;5;28;01mfrom\u001b[39;00m\u001b[38;5;250m \u001b[39m\u001b[34;01mtyping\u001b[39;00m\u001b[38;5;250m \u001b[39m\u001b[38;5;28;01mimport\u001b[39;00m Any, Callable, Dict, List, Optional, Sequence, Union\n\u001b[32m----> \u001b[39m\u001b[32m4\u001b[39m \u001b[38;5;28;01mfrom\u001b[39;00m\u001b[38;5;250m \u001b[39m\u001b[34;01mllama_index\u001b[39;00m\u001b[34;01m.\u001b[39;00m\u001b[34;01mcore\u001b[39;00m\u001b[34;01m.\u001b[39;00m\u001b[34;01mbase\u001b[39;00m\u001b[34;01m.\u001b[39;00m\u001b[34;01mllms\u001b[39;00m\u001b[34;01m.\u001b[39;00m\u001b[34;01mtypes\u001b[39;00m\u001b[38;5;250m \u001b[39m\u001b[38;5;28;01mimport\u001b[39;00m (\n\u001b[32m      5\u001b[39m     ChatMessage,\n\u001b[32m      6\u001b[39m     ChatResponse,\n\u001b[32m      7\u001b[39m     ChatResponseAsyncGen,\n\u001b[32m      8\u001b[39m     ChatResponseGen,\n\u001b[32m      9\u001b[39m     CompletionResponse,\n\u001b[32m     10\u001b[39m     CompletionResponseAsyncGen,\n\u001b[32m     11\u001b[39m     CompletionResponseGen,\n\u001b[32m     12\u001b[39m     LLMMetadata,\n\u001b[32m     13\u001b[39m     MessageRole,\n\u001b[32m     14\u001b[39m )\n\u001b[32m     15\u001b[39m \u001b[38;5;28;01mfrom\u001b[39;00m\u001b[38;5;250m \u001b[39m\u001b[34;01mllama_index\u001b[39;00m\u001b[34;01m.\u001b[39;00m\u001b[34;01mcore\u001b[39;00m\u001b[34;01m.\u001b[39;00m\u001b[34;01mbridge\u001b[39;00m\u001b[34;01m.\u001b[39;00m\u001b[34;01mpydantic\u001b[39;00m\u001b[38;5;250m \u001b[39m\u001b[38;5;28;01mimport\u001b[39;00m Field, PrivateAttr\n\u001b[32m     16\u001b[39m \u001b[38;5;28;01mfrom\u001b[39;00m\u001b[38;5;250m \u001b[39m\u001b[34;01mllama_index\u001b[39;00m\u001b[34;01m.\u001b[39;00m\u001b[34;01mcore\u001b[39;00m\u001b[34;01m.\u001b[39;00m\u001b[34;01mcallbacks\u001b[39;00m\u001b[38;5;250m \u001b[39m\u001b[38;5;28;01mimport\u001b[39;00m CallbackManager\n",
      "\u001b[36mFile \u001b[39m\u001b[32m~/.local/lib/python3.12/site-packages/llama_index/core/__init__.py:16\u001b[39m\n\u001b[32m     13\u001b[39m     \u001b[38;5;28;01mpass\u001b[39;00m\n\u001b[32m     15\u001b[39m \u001b[38;5;66;03m# response\u001b[39;00m\n\u001b[32m---> \u001b[39m\u001b[32m16\u001b[39m \u001b[38;5;28;01mfrom\u001b[39;00m\u001b[38;5;250m \u001b[39m\u001b[34;01mllama_index\u001b[39;00m\u001b[34;01m.\u001b[39;00m\u001b[34;01mcore\u001b[39;00m\u001b[34;01m.\u001b[39;00m\u001b[34;01mbase\u001b[39;00m\u001b[34;01m.\u001b[39;00m\u001b[34;01mresponse\u001b[39;00m\u001b[34;01m.\u001b[39;00m\u001b[34;01mschema\u001b[39;00m\u001b[38;5;250m \u001b[39m\u001b[38;5;28;01mimport\u001b[39;00m Response\n\u001b[32m     18\u001b[39m \u001b[38;5;66;03m# import global eval handler\u001b[39;00m\n\u001b[32m     19\u001b[39m \u001b[38;5;28;01mfrom\u001b[39;00m\u001b[38;5;250m \u001b[39m\u001b[34;01mllama_index\u001b[39;00m\u001b[34;01m.\u001b[39;00m\u001b[34;01mcore\u001b[39;00m\u001b[34;01m.\u001b[39;00m\u001b[34;01mcallbacks\u001b[39;00m\u001b[34;01m.\u001b[39;00m\u001b[34;01mglobal_handlers\u001b[39;00m\u001b[38;5;250m \u001b[39m\u001b[38;5;28;01mimport\u001b[39;00m set_global_handler\n",
      "\u001b[36mFile \u001b[39m\u001b[32m~/.local/lib/python3.12/site-packages/llama_index/core/base/response/schema.py:7\u001b[39m\n\u001b[32m      4\u001b[39m \u001b[38;5;28;01mfrom\u001b[39;00m\u001b[38;5;250m \u001b[39m\u001b[34;01mdataclasses\u001b[39;00m\u001b[38;5;250m \u001b[39m\u001b[38;5;28;01mimport\u001b[39;00m dataclass, field\n\u001b[32m      5\u001b[39m \u001b[38;5;28;01mfrom\u001b[39;00m\u001b[38;5;250m \u001b[39m\u001b[34;01mtyping\u001b[39;00m\u001b[38;5;250m \u001b[39m\u001b[38;5;28;01mimport\u001b[39;00m Any, Dict, List, Optional, Union\n\u001b[32m----> \u001b[39m\u001b[32m7\u001b[39m \u001b[38;5;28;01mfrom\u001b[39;00m\u001b[38;5;250m \u001b[39m\u001b[34;01mllama_index\u001b[39;00m\u001b[34;01m.\u001b[39;00m\u001b[34;01mcore\u001b[39;00m\u001b[34;01m.\u001b[39;00m\u001b[34;01masync_utils\u001b[39;00m\u001b[38;5;250m \u001b[39m\u001b[38;5;28;01mimport\u001b[39;00m asyncio_run\n\u001b[32m      8\u001b[39m \u001b[38;5;28;01mfrom\u001b[39;00m\u001b[38;5;250m \u001b[39m\u001b[34;01mllama_index\u001b[39;00m\u001b[34;01m.\u001b[39;00m\u001b[34;01mcore\u001b[39;00m\u001b[34;01m.\u001b[39;00m\u001b[34;01mbridge\u001b[39;00m\u001b[34;01m.\u001b[39;00m\u001b[34;01mpydantic\u001b[39;00m\u001b[38;5;250m \u001b[39m\u001b[38;5;28;01mimport\u001b[39;00m BaseModel\n\u001b[32m      9\u001b[39m \u001b[38;5;28;01mfrom\u001b[39;00m\u001b[38;5;250m \u001b[39m\u001b[34;01mllama_index\u001b[39;00m\u001b[34;01m.\u001b[39;00m\u001b[34;01mcore\u001b[39;00m\u001b[34;01m.\u001b[39;00m\u001b[34;01mschema\u001b[39;00m\u001b[38;5;250m \u001b[39m\u001b[38;5;28;01mimport\u001b[39;00m NodeWithScore\n",
      "\u001b[36mFile \u001b[39m\u001b[32m~/.local/lib/python3.12/site-packages/llama_index/core/async_utils.py:8\u001b[39m\n\u001b[32m      5\u001b[39m \u001b[38;5;28;01mfrom\u001b[39;00m\u001b[38;5;250m \u001b[39m\u001b[34;01mitertools\u001b[39;00m\u001b[38;5;250m \u001b[39m\u001b[38;5;28;01mimport\u001b[39;00m zip_longest\n\u001b[32m      6\u001b[39m \u001b[38;5;28;01mfrom\u001b[39;00m\u001b[38;5;250m \u001b[39m\u001b[34;01mtyping\u001b[39;00m\u001b[38;5;250m \u001b[39m\u001b[38;5;28;01mimport\u001b[39;00m Any, Coroutine, Iterable, List, Optional, TypeVar\n\u001b[32m----> \u001b[39m\u001b[32m8\u001b[39m \u001b[38;5;28;01mimport\u001b[39;00m\u001b[38;5;250m \u001b[39m\u001b[34;01mllama_index\u001b[39;00m\u001b[34;01m.\u001b[39;00m\u001b[34;01mcore\u001b[39;00m\u001b[34;01m.\u001b[39;00m\u001b[34;01minstrumentation\u001b[39;00m\u001b[38;5;250m \u001b[39m\u001b[38;5;28;01mas\u001b[39;00m\u001b[38;5;250m \u001b[39m\u001b[34;01minstrument\u001b[39;00m\n\u001b[32m     10\u001b[39m dispatcher = instrument.get_dispatcher(\u001b[34m__name__\u001b[39m)\n\u001b[32m     13\u001b[39m \u001b[38;5;28;01mdef\u001b[39;00m\u001b[38;5;250m \u001b[39m\u001b[34masyncio_module\u001b[39m(show_progress: \u001b[38;5;28mbool\u001b[39m = \u001b[38;5;28;01mFalse\u001b[39;00m) -> Any:\n",
      "\u001b[36mFile \u001b[39m\u001b[32m~/.local/lib/python3.12/site-packages/llama_index/core/instrumentation/__init__.py:1\u001b[39m\n\u001b[32m----> \u001b[39m\u001b[32m1\u001b[39m \u001b[38;5;28;01mfrom\u001b[39;00m\u001b[38;5;250m \u001b[39m\u001b[34;01mllama_index_instrumentation\u001b[39;00m\u001b[38;5;250m \u001b[39m\u001b[38;5;28;01mimport\u001b[39;00m (\n\u001b[32m      2\u001b[39m     DispatcherSpanMixin,  \u001b[38;5;66;03m# noqa\u001b[39;00m\n\u001b[32m      3\u001b[39m     get_dispatcher,  \u001b[38;5;66;03m# noqa\u001b[39;00m\n\u001b[32m      4\u001b[39m     root_dispatcher,  \u001b[38;5;66;03m# noqa\u001b[39;00m\n\u001b[32m      5\u001b[39m     root_manager,  \u001b[38;5;66;03m# noqa\u001b[39;00m\n\u001b[32m      6\u001b[39m )\n\u001b[32m      7\u001b[39m \u001b[38;5;28;01mfrom\u001b[39;00m\u001b[38;5;250m \u001b[39m\u001b[34;01mllama_index_instrumentation\u001b[39;00m\u001b[34;01m.\u001b[39;00m\u001b[34;01mdispatcher\u001b[39;00m\u001b[38;5;250m \u001b[39m\u001b[38;5;28;01mimport\u001b[39;00m (\n\u001b[32m      8\u001b[39m     DISPATCHER_SPAN_DECORATED_ATTR,  \u001b[38;5;66;03m# noqa\u001b[39;00m\n\u001b[32m      9\u001b[39m     Dispatcher,  \u001b[38;5;66;03m# noqa\u001b[39;00m\n\u001b[32m     10\u001b[39m     Manager,  \u001b[38;5;66;03m# noqa\u001b[39;00m\n\u001b[32m     11\u001b[39m )\n\u001b[32m     12\u001b[39m \u001b[38;5;28;01mfrom\u001b[39;00m\u001b[38;5;250m \u001b[39m\u001b[34;01mllama_index_instrumentation\u001b[39;00m\u001b[34;01m.\u001b[39;00m\u001b[34;01mevent_handlers\u001b[39;00m\u001b[38;5;250m \u001b[39m\u001b[38;5;28;01mimport\u001b[39;00m NullEventHandler  \u001b[38;5;66;03m# noqa\u001b[39;00m\n",
      "\u001b[36mFile \u001b[39m\u001b[32m~/.local/lib/python3.12/site-packages/llama_index_instrumentation/__init__.py:5\u001b[39m\n\u001b[32m      2\u001b[39m \u001b[38;5;28;01mfrom\u001b[39;00m\u001b[38;5;250m \u001b[39m\u001b[34;01mabc\u001b[39;00m\u001b[38;5;250m \u001b[39m\u001b[38;5;28;01mimport\u001b[39;00m ABC\n\u001b[32m      3\u001b[39m \u001b[38;5;28;01mfrom\u001b[39;00m\u001b[38;5;250m \u001b[39m\u001b[34;01mtyping\u001b[39;00m\u001b[38;5;250m \u001b[39m\u001b[38;5;28;01mimport\u001b[39;00m Any, List\n\u001b[32m----> \u001b[39m\u001b[32m5\u001b[39m \u001b[38;5;28;01mfrom\u001b[39;00m\u001b[38;5;250m \u001b[39m\u001b[34;01m.\u001b[39;00m\u001b[34;01mdispatcher\u001b[39;00m\u001b[38;5;250m \u001b[39m\u001b[38;5;28;01mimport\u001b[39;00m (\n\u001b[32m      6\u001b[39m     DISPATCHER_SPAN_DECORATED_ATTR,\n\u001b[32m      7\u001b[39m     Dispatcher,\n\u001b[32m      8\u001b[39m     Manager,\n\u001b[32m      9\u001b[39m )\n\u001b[32m     10\u001b[39m \u001b[38;5;28;01mfrom\u001b[39;00m\u001b[38;5;250m \u001b[39m\u001b[34;01m.\u001b[39;00m\u001b[34;01mevent_handlers\u001b[39;00m\u001b[38;5;250m \u001b[39m\u001b[38;5;28;01mimport\u001b[39;00m NullEventHandler\n\u001b[32m     11\u001b[39m \u001b[38;5;28;01mfrom\u001b[39;00m\u001b[38;5;250m \u001b[39m\u001b[34;01m.\u001b[39;00m\u001b[34;01mspan_handlers\u001b[39;00m\u001b[38;5;250m \u001b[39m\u001b[38;5;28;01mimport\u001b[39;00m NullSpanHandler\n",
      "\u001b[36mFile \u001b[39m\u001b[32m~/.local/lib/python3.12/site-packages/llama_index_instrumentation/dispatcher.py:11\u001b[39m\n\u001b[32m      8\u001b[39m \u001b[38;5;28;01mfrom\u001b[39;00m\u001b[38;5;250m \u001b[39m\u001b[34;01mtyping\u001b[39;00m\u001b[38;5;250m \u001b[39m\u001b[38;5;28;01mimport\u001b[39;00m Any, Callable, Dict, Generator, List, Optional, Protocol, TypeVar\n\u001b[32m     10\u001b[39m \u001b[38;5;28;01mimport\u001b[39;00m\u001b[38;5;250m \u001b[39m\u001b[34;01mwrapt\u001b[39;00m\n\u001b[32m---> \u001b[39m\u001b[32m11\u001b[39m \u001b[38;5;28;01mfrom\u001b[39;00m\u001b[38;5;250m \u001b[39m\u001b[34;01mdeprecated\u001b[39;00m\u001b[38;5;250m \u001b[39m\u001b[38;5;28;01mimport\u001b[39;00m deprecated\n\u001b[32m     12\u001b[39m \u001b[38;5;28;01mfrom\u001b[39;00m\u001b[38;5;250m \u001b[39m\u001b[34;01mpydantic\u001b[39;00m\u001b[38;5;250m \u001b[39m\u001b[38;5;28;01mimport\u001b[39;00m BaseModel, ConfigDict, Field\n\u001b[32m     14\u001b[39m \u001b[38;5;28;01mfrom\u001b[39;00m\u001b[38;5;250m \u001b[39m\u001b[34;01m.\u001b[39;00m\u001b[34;01mbase\u001b[39;00m\u001b[38;5;250m \u001b[39m\u001b[38;5;28;01mimport\u001b[39;00m BaseEvent\n",
      "\u001b[31mModuleNotFoundError\u001b[39m: No module named 'deprecated'"
     ]
    }
   ],
   "source": [
    "import llama_index\n",
    "from llama_index.llms.cohere import Cohere\n",
    "\n",
    "import json\n",
    "import requests\n",
    "import uuid\n",
    "from datetime import datetime, timezone\n",
    "\n",
    "def hello_http(prompt):\n",
    "\n",
    "\n",
    "    api_key = \"RAjqpE9uTVFfTTaF0RIGUM4PaKBeQ7insNIu9KLC\"\n",
    "\n",
    "    llm = Cohere(model=\"command-r-08-2024\", api_key=api_key)\n",
    "\n",
    "    resp = llm.complete(prompt)\n",
    "\n",
    "    #print(resp)\n",
    "\n",
    "    return resp\n"
   ]
  },
  {
   "cell_type": "code",
   "execution_count": 4,
   "id": "8c55ab40",
   "metadata": {},
   "outputs": [],
   "source": [
    "def salvar_chat(id_usuario, message, nm_chat):\n",
    "\n",
    "    ORACLE_API_URL = \"https://g56e15c6771c555-nutriaidb.adb.sa-saopaulo-1.oraclecloudapps.com/ords/admin/chats/\"\n",
    "    \n",
    "    print(\"Iniciando salvamento do chat no Oracle...\")\n",
    "\n",
    "    data_de_criacao_iso = datetime.now(timezone.utc).isoformat()\n",
    "\n",
    "    # Payload (corpo da requisição) para a API do Oracle\n",
    "    oracle_payload = {\n",
    "        \"uid_usuario_chat\":\"uid-002\",\n",
    "        \"nm_chat\": nm_chat,\n",
    "        \"ds_mensagens_chat\": message,\n",
    "        \"dt_criacao_chat\": data_de_criacao_iso\n",
    "    }\n",
    "\n",
    "    headers = {\"Content-Type\": \"application/json\"}\n",
    "    \n",
    "    # Faz a requisição POST e levanta uma exceção em caso de erro (4xx ou 5xx)\n",
    "    oracle_response = requests.post(ORACLE_API_URL, data=json.dumps(oracle_payload), headers=headers)\n",
    "    oracle_response.raise_for_status()\n",
    "    \n",
    "    print(f\"Chat salvo com sucesso. ID: {id_usuario}\")\n",
    "    return id_usuario\n"
   ]
  },
  {
   "cell_type": "code",
   "execution_count": 5,
   "id": "db44271e",
   "metadata": {},
   "outputs": [
    {
     "name": "stdout",
     "output_type": "stream",
     "text": [
      "Iniciando salvamento do chat no Oracle...\n",
      "Chat salvo com sucesso. ID: uid-002\n",
      "Olá! Como um assistente de IA, estou aqui para ajudar com uma ampla gama de tarefas e perguntas. Você pode me pedir ajuda com praticamente qualquer coisa, desde informações gerais até orientação em áreas específicas. Aqui estão algumas maneiras pelas quais posso ajudá-lo:\n",
      "\n",
      "1. Respostas a Perguntas: Você pode me perguntar sobre qualquer tópico, desde ciência e história até cultura popular e hobbies. Posso fornecer informações precisas e atualizadas.\n",
      "\n",
      "2. Explicações: Se você tiver dúvidas sobre conceitos ou ideias complexas, posso explicar de forma clara e concisa, facilitando a compreensão.\n",
      "\n",
      "3. Sugestões e Ideias: Precisa de inspiração ou sugestões para um projeto, hobby ou atividade? Posso oferecer ideias criativas e alternativas para ajudá-lo a explorar novas possibilidades.\n",
      "\n",
      "4. Resumos e Sínteses: Se você tiver muito conteúdo para absorver, posso resumir textos, artigos ou livros para ajudá-lo a entender os pontos principais rapidamente.\n",
      "\n",
      "5. Tradução: Se você precisar de ajuda com idiomas estrangeiros, posso traduzir textos ou frases para você.\n",
      "\n",
      "6. Assistência Acadêmica: Posso ajudar com tarefas escolares, como resolver problemas matemáticos, explicar conceitos científicos ou fornecer dicas de estudo.\n",
      "\n",
      "7. Planejamento e Organização: Precisa de ajuda para organizar suas ideias ou criar um plano de ação? Posso guiá-lo no processo de planejamento e fornecer recursos úteis.\n",
      "\n",
      "8. Resolução de Problemas: Se você estiver enfrentando um problema ou um desafio, posso ajudá-lo a pensar de forma criativa e fornecer soluções alternativas.\n",
      "\n",
      "9. Treinamento e Aprendizado: Se você estiver interessado em aprender algo novo, posso fornecer tutoriais, recursos e recomendações para ajudá-lo a adquirir novas habilidades.\n",
      "\n",
      "10. Conversação e Companheirismo: Estou sempre pronto para conversar e ouvir. Posso ser um companheiro de conversa agradável, oferecendo conversas interessantes e divertidas.\n",
      "\n",
      "Lembre-se, sou um assistente de IA projetado para ajudar e aprender com você. Não hesite em fazer perguntas, pedir ajuda ou compartilhar seus pensamentos. Estou aqui para tornar sua vida um pouco mais fácil e informativa!\n"
     ]
    }
   ],
   "source": [
    "resp = hello_http(\"Olá como pode me ajudar?\")\n",
    "\n",
    "salvar_chat(\"uid-002\", \"teste domingão\", \"João\")\n",
    "\n",
    "print(resp.text)"
   ]
  },
  {
   "cell_type": "code",
   "execution_count": 4,
   "id": "351ae2a6",
   "metadata": {},
   "outputs": [],
   "source": [
    "ORACLE_API_URL = \"https://g56e15c6771c555-nutriaidb.adb.sa-saopaulo-1.oraclecloudapps.com/ords/admin/chats/\"\n",
    "\n",
    "def get_chat_date(chat_record):\n",
    "    \"\"\"\n",
    "    Função auxiliar segura para extrair e converter a data de um registro de chat.\n",
    "    Retorna um objeto datetime válido ou uma data mínima se a data for nula ou inválida.\n",
    "    \"\"\"\n",
    "    # Usar .get() é mais seguro pois retorna None se a chave não existir\n",
    "    date_str = chat_record.get('dt_criacao_chat')\n",
    "\n",
    "    # Se a data for Nula ou uma string vazia, trata como a data mais antiga possível\n",
    "    if not date_str:\n",
    "        return datetime.min\n",
    "\n",
    "    # Tenta converter a data (primeiro o formato ISO, depois o formato customizado)\n",
    "    try:\n",
    "        # Opção A: Formato ISO 8601 (ex: \"2025-07-26T18:30:00Z\")\n",
    "        return datetime.fromisoformat(date_str.replace('Z', '+00:00'))\n",
    "    except (ValueError, TypeError):\n",
    "        try:\n",
    "            # Opção B: Formato customizado (ex: \"26/07/2025, 03:00:29 PM\")\n",
    "            return datetime.strptime(date_str, \"%d/%m/%Y, %I:%M:%S %p\")\n",
    "        except (ValueError, TypeError):\n",
    "            # Se nenhum formato funcionar, trata como a data mais antiga\n",
    "            print(f\"AVISO: Não foi possível converter a data '{date_str}'. Tratando como antigo.\")\n",
    "            return datetime.min\n",
    "\n",
    "def buscar_e_filtrar_chats(id_chat=None, uid_usuario=None, nm_chat=None):\n",
    "    \"\"\"\n",
    "    Busca todos os chats da API Oracle, filtra em memória e os ordena por data de forma segura.\n",
    "    \"\"\"\n",
    "    print(\"Buscando todos os chats da API...\")\n",
    "    try:\n",
    "        response = requests.get(ORACLE_API_URL)\n",
    "        response.raise_for_status()\n",
    "\n",
    "        todos_os_chats = response.json().get('items', [])\n",
    "        print(f\"Encontrados {len(todos_os_chats)} chats no total.\")\n",
    "\n",
    "        # A lógica de filtragem continua a mesma\n",
    "        resultados_filtrados = []\n",
    "        for chat in todos_os_chats:\n",
    "            match_id = (id_chat is None) or (str(chat.get('id_chat')) == str(id_chat))\n",
    "            match_uid = (uid_usuario is None) or (chat.get('uid_usuario_chat') == uid_usuario)\n",
    "            match_nm = (nm_chat is None) or (nm_chat.lower() in str(chat.get('nm_chat', '')).lower())\n",
    "            if match_id and match_uid and match_nm:\n",
    "                resultados_filtrados.append(chat)\n",
    "        \n",
    "        print(f\"Após a filtragem, restaram {len(resultados_filtrados)} chats.\")\n",
    "\n",
    "        # --- ORDENAÇÃO SEGURA USANDO A FUNÇÃO AUXILIAR ---\n",
    "        # A função `get_chat_date` lida com todos os casos de erro (nulos, formatos, etc.)\n",
    "        resultados_ordenados = sorted(resultados_filtrados, key=get_chat_date)\n",
    "\n",
    "        print(\"Chats ordenados com sucesso.\")\n",
    "        return resultados_ordenados\n",
    "\n",
    "    except requests.exceptions.RequestException as e:\n",
    "        print(f\"Erro ao fazer a requisição para a API: {e}\")\n",
    "        return None\n",
    "    except Exception as e:\n",
    "        print(f\"Ocorreu um erro inesperado: {e}\")\n",
    "        return None"
   ]
  },
  {
   "cell_type": "code",
   "execution_count": 11,
   "id": "3bfa4549",
   "metadata": {},
   "outputs": [
    {
     "name": "stdout",
     "output_type": "stream",
     "text": [
      "\n",
      "--- Exemplo 2: Buscar um chat com um nome específico ---\n",
      "Buscando todos os chats da API...\n",
      "Encontrados 14 chats no total.\n",
      "Após a filtragem, restaram 2 chats.\n",
      "Chats ordenados com sucesso.\n",
      "Encontrado: [{'id_chat': 73, 'uid_usuario_chat': 'uid-001', 'nm_chat': 'Defict Calórico', 'ds_mensagens_chat': 'essa é a numero 2', 'dt_criacao_chat': '2025-08-02T17:40:12Z', 'id_paciente': 22, 'links': [{'rel': 'self', 'href': 'https://g56e15c6771c555-nutriaidb.adb.sa-saopaulo-1.oraclecloudapps.com/ords/admin/chats/73'}]}, {'id_chat': 74, 'uid_usuario_chat': 'uid-001', 'nm_chat': 'Defict Calórico', 'ds_mensagens_chat': 'Claro! Estou aqui para ajudar. \\n\\nQual é a dúvida específica do seu paciente?', 'dt_criacao_chat': '2025-08-02T17:40:14Z', 'id_paciente': 22, 'links': [{'rel': 'self', 'href': 'https://g56e15c6771c555-nutriaidb.adb.sa-saopaulo-1.oraclecloudapps.com/ords/admin/chats/74'}]}]\n"
     ]
    }
   ],
   "source": [
    "\n",
    "import requests\n",
    "\n",
    "import json\n",
    "import requests\n",
    "import uuid\n",
    "from datetime import datetime, timezone\n",
    "\n",
    "print(\"\\n--- Exemplo 2: Buscar um chat com um nome específico ---\")\n",
    "chats_por_nome = buscar_e_filtrar_chats(nm_chat=\"Defict Calórico\", uid_usuario=\"uid-001\")\n",
    "if chats_por_nome:\n",
    "    print(f\"Encontrado: {chats_por_nome}\")"
   ]
  },
  {
   "cell_type": "code",
   "execution_count": 14,
   "id": "823dc935",
   "metadata": {},
   "outputs": [
    {
     "name": "stdout",
     "output_type": "stream",
     "text": [
      "[{'mensagem': 'essa é a numero 2', 'tempo': '02/08/2025 17:40:12'}, {'mensagem': 'Claro! Estou aqui para ajudar. \\n\\nQual é a dúvida específica do seu paciente?', 'tempo': '02/08/2025 17:40:14'}]\n"
     ]
    }
   ],
   "source": [
    "# --- Passo 1: Extrair o essencial para uma nova lista ---\n",
    "chats_simplificados = []\n",
    "for chat in chats_por_nome:\n",
    "    # Pega a mensagem\n",
    "    mensagem = chat['ds_mensagens_chat']\n",
    "    \n",
    "    # Pega a data (que está como texto)\n",
    "    data_texto = chat['dt_criacao_chat']\n",
    "    \n",
    "    # Converte o texto da data para um objeto datetime do Python\n",
    "    # O .replace('Z', '+00:00') ajuda o Python a entender o fuso horário UTC\n",
    "    data_objeto = datetime.fromisoformat(data_texto.replace('Z', '+00:00'))\n",
    "\n",
    "    tempo_formatado = data_objeto.strftime('%d/%m/%Y %H:%M:%S')\n",
    "    \n",
    "    # Adiciona um novo dicionário com os dados limpos à nossa lista\n",
    "    chats_simplificados.append({\n",
    "        'mensagem': mensagem,\n",
    "        'tempo': tempo_formatado\n",
    "    })\n",
    "\n",
    "# --- Passo 2: Ordenar a lista pela chave 'tempo' ---\n",
    "# A função sorted() cria uma nova lista ordenada.\n",
    "# O 'key=lambda item: item['tempo']' diz para ordenar usando o valor da chave 'tempo'.\n",
    "chats_ordenados = sorted(chats_simplificados, key=lambda item: item['tempo'])\n",
    "\n",
    "print(chats_ordenados)\n",
    "\n",
    "\n",
    "# # --- Passo 3: Exibir o resultado de forma legível ---\n",
    "# print(\"--- Histórico do Chat (Do mais antigo para o mais novo) ---\")\n",
    "# for chat in chats_ordenados:\n",
    "#     # Formata a data para um padrão mais amigável (Dia/Mês/Ano Hora:Minuto:Segundo)\n",
    "#     tempo_formatado = chat['tempo'].strftime('%d/%m/%Y %H:%M:%S')\n",
    "    \n",
    "#     print(f\"Data: {tempo_formatado}\")\n",
    "#     print(f\"Mensagem: {chat['mensagem']}\")\n",
    "#     print(\"-\" * 20) # Apenas uma linha para separar as mensagens"
   ]
  }
 ],
 "metadata": {
  "kernelspec": {
   "display_name": "Python 3",
   "language": "python",
   "name": "python3"
  },
  "language_info": {
   "codemirror_mode": {
    "name": "ipython",
    "version": 3
   },
   "file_extension": ".py",
   "mimetype": "text/x-python",
   "name": "python",
   "nbconvert_exporter": "python",
   "pygments_lexer": "ipython3",
   "version": "3.12.3"
  }
 },
 "nbformat": 4,
 "nbformat_minor": 5
}
