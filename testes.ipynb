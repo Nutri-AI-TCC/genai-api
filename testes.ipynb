{
 "cells": [
  {
   "cell_type": "code",
   "execution_count": 1,
   "id": "755a71ca",
   "metadata": {},
   "outputs": [
    {
     "name": "stdout",
     "output_type": "stream",
     "text": [
      "Successfully installed aiohappyeyeballs-2.6.1 aiohttp-3.12.14 aiosignal-1.4.0 aiosqlite-0.21.0 banks-2.2.0 cohere-5.16.1 colorama-0.4.6 dataclasses-json-0.6.7 dirtyjson-1.0.8 fastavro-1.11.1 filetype-1.2.0 frozenlist-1.7.0 fsspec-2025.7.0 greenlet-3.2.3 griffe-1.8.0 hf-xet-1.1.5 httpx-sse-0.4.0 huggingface-hub-0.34.1 joblib-1.5.1 llama-index-core-0.12.52.post1 llama-index-instrumentation-0.3.0 llama-index-llms-cohere-0.5.0 llama-index-workflows-1.2.0 marshmallow-3.26.1 multidict-6.6.3 mypy-extensions-1.1.0 networkx-3.5 nltk-3.9.1 pillow-11.3.0 propcache-0.3.2 pydantic-2.11.7 regex-2024.11.6 setuptools-80.9.0 sqlalchemy-2.0.41 tenacity-9.1.2 tiktoken-0.9.0 tokenizers-0.21.2 tqdm-4.67.1 types-requests-2.32.4.20250611 typing-inspect-0.9.0 yarl-1.20.1\n",
      "Note: you may need to restart the kernel to use updated packages.\n"
     ]
    }
   ],
   "source": [
    "pip install llama-index-llms-cohere\n"
   ]
  },
  {
   "cell_type": "code",
   "execution_count": 1,
   "id": "4da2d015",
   "metadata": {},
   "outputs": [
    {
     "name": "stdout",
     "output_type": "stream",
     "text": [
      "Defaulting to user installation because normal site-packages is not writeable\n",
      "Collecting mcp\n",
      "  Downloading mcp-1.12.4-py3-none-any.whl.metadata (68 kB)\n",
      "\u001b[2K     \u001b[90m━━━━━━━━━━━━━━━━━━━━━━━━━━━━━━━━━━━━━━━━\u001b[0m \u001b[32m68.2/68.2 kB\u001b[0m \u001b[31m2.0 MB/s\u001b[0m eta \u001b[36m0:00:00\u001b[0m\n",
      "\u001b[?25hRequirement already satisfied: anyio>=4.5 in /usr/local/lib/python3.12/dist-packages (from mcp) (4.9.0)\n",
      "Requirement already satisfied: httpx-sse>=0.4 in /home/pedro_phprado/.local/lib/python3.12/site-packages (from mcp) (0.4.0)\n",
      "Requirement already satisfied: httpx>=0.27 in /usr/local/lib/python3.12/dist-packages (from mcp) (0.28.1)\n",
      "Requirement already satisfied: jsonschema>=4.20.0 in /usr/local/lib/python3.12/dist-packages (from mcp) (4.24.0)\n",
      "Collecting pydantic-settings>=2.5.2 (from mcp)\n",
      "  Downloading pydantic_settings-2.10.1-py3-none-any.whl.metadata (3.4 kB)\n",
      "Requirement already satisfied: pydantic<3.0.0,>=2.8.0 in /home/pedro_phprado/.local/lib/python3.12/site-packages (from mcp) (2.11.7)\n",
      "Collecting python-multipart>=0.0.9 (from mcp)\n",
      "  Downloading python_multipart-0.0.20-py3-none-any.whl.metadata (1.8 kB)\n",
      "Collecting sse-starlette>=1.6.1 (from mcp)\n",
      "  Downloading sse_starlette-3.0.2-py3-none-any.whl.metadata (11 kB)\n",
      "Collecting starlette>=0.27 (from mcp)\n",
      "  Downloading starlette-0.47.2-py3-none-any.whl.metadata (6.2 kB)\n",
      "Collecting uvicorn>=0.23.1 (from mcp)\n",
      "  Downloading uvicorn-0.35.0-py3-none-any.whl.metadata (6.5 kB)\n",
      "Requirement already satisfied: idna>=2.8 in /usr/local/lib/python3.12/dist-packages (from anyio>=4.5->mcp) (3.10)\n",
      "Requirement already satisfied: sniffio>=1.1 in /usr/local/lib/python3.12/dist-packages (from anyio>=4.5->mcp) (1.3.1)\n",
      "Requirement already satisfied: typing_extensions>=4.5 in /usr/local/lib/python3.12/dist-packages (from anyio>=4.5->mcp) (4.14.1)\n",
      "Requirement already satisfied: certifi in /usr/local/lib/python3.12/dist-packages (from httpx>=0.27->mcp) (2025.7.9)\n",
      "Requirement already satisfied: httpcore==1.* in /usr/local/lib/python3.12/dist-packages (from httpx>=0.27->mcp) (1.0.9)\n",
      "Requirement already satisfied: h11>=0.16 in /usr/local/lib/python3.12/dist-packages (from httpcore==1.*->httpx>=0.27->mcp) (0.16.0)\n",
      "Requirement already satisfied: attrs>=22.2.0 in /usr/local/lib/python3.12/dist-packages (from jsonschema>=4.20.0->mcp) (25.3.0)\n",
      "Requirement already satisfied: jsonschema-specifications>=2023.03.6 in /usr/local/lib/python3.12/dist-packages (from jsonschema>=4.20.0->mcp) (2025.4.1)\n",
      "Requirement already satisfied: referencing>=0.28.4 in /usr/local/lib/python3.12/dist-packages (from jsonschema>=4.20.0->mcp) (0.36.2)\n",
      "Requirement already satisfied: rpds-py>=0.7.1 in /usr/local/lib/python3.12/dist-packages (from jsonschema>=4.20.0->mcp) (0.26.0)\n",
      "Requirement already satisfied: annotated-types>=0.6.0 in /usr/local/lib/python3.12/dist-packages (from pydantic<3.0.0,>=2.8.0->mcp) (0.7.0)\n",
      "Requirement already satisfied: pydantic-core==2.33.2 in /usr/local/lib/python3.12/dist-packages (from pydantic<3.0.0,>=2.8.0->mcp) (2.33.2)\n",
      "Requirement already satisfied: typing-inspection>=0.4.0 in /usr/local/lib/python3.12/dist-packages (from pydantic<3.0.0,>=2.8.0->mcp) (0.4.1)\n",
      "Collecting python-dotenv>=0.21.0 (from pydantic-settings>=2.5.2->mcp)\n",
      "  Downloading python_dotenv-1.1.1-py3-none-any.whl.metadata (24 kB)\n",
      "Requirement already satisfied: click>=7.0 in /usr/local/lib/python3.12/dist-packages (from uvicorn>=0.23.1->mcp) (8.2.1)\n",
      "Downloading mcp-1.12.4-py3-none-any.whl (160 kB)\n",
      "\u001b[2K   \u001b[90m━━━━━━━━━━━━━━━━━━━━━━━━━━━━━━━━━━━━━━━━\u001b[0m \u001b[32m160.1/160.1 kB\u001b[0m \u001b[31m6.0 MB/s\u001b[0m eta \u001b[36m0:00:00\u001b[0m\n",
      "\u001b[?25hDownloading pydantic_settings-2.10.1-py3-none-any.whl (45 kB)\n",
      "\u001b[2K   \u001b[90m━━━━━━━━━━━━━━━━━━━━━━━━━━━━━━━━━━━━━━━━\u001b[0m \u001b[32m45.2/45.2 kB\u001b[0m \u001b[31m3.3 MB/s\u001b[0m eta \u001b[36m0:00:00\u001b[0m\n",
      "\u001b[?25hDownloading python_multipart-0.0.20-py3-none-any.whl (24 kB)\n",
      "Downloading sse_starlette-3.0.2-py3-none-any.whl (11 kB)\n",
      "Downloading starlette-0.47.2-py3-none-any.whl (72 kB)\n",
      "\u001b[2K   \u001b[90m━━━━━━━━━━━━━━━━━━━━━━━━━━━━━━━━━━━━━━━━\u001b[0m \u001b[32m73.0/73.0 kB\u001b[0m \u001b[31m5.6 MB/s\u001b[0m eta \u001b[36m0:00:00\u001b[0m\n",
      "\u001b[?25hDownloading uvicorn-0.35.0-py3-none-any.whl (66 kB)\n",
      "\u001b[2K   \u001b[90m━━━━━━━━━━━━━━━━━━━━━━━━━━━━━━━━━━━━━━━━\u001b[0m \u001b[32m66.4/66.4 kB\u001b[0m \u001b[31m4.9 MB/s\u001b[0m eta \u001b[36m0:00:00\u001b[0m\n",
      "\u001b[?25hDownloading python_dotenv-1.1.1-py3-none-any.whl (20 kB)\n",
      "Installing collected packages: uvicorn, python-multipart, python-dotenv, starlette, sse-starlette, pydantic-settings, mcp\n",
      "Successfully installed mcp-1.12.4 pydantic-settings-2.10.1 python-dotenv-1.1.1 python-multipart-0.0.20 sse-starlette-3.0.2 starlette-0.47.2 uvicorn-0.35.0\n",
      "Note: you may need to restart the kernel to use updated packages.\n"
     ]
    }
   ],
   "source": [
    "pip install mcp"
   ]
  },
  {
   "cell_type": "code",
   "execution_count": 3,
   "id": "3cc58493",
   "metadata": {},
   "outputs": [
    {
     "ename": "ModuleNotFoundError",
     "evalue": "No module named 'deprecated'",
     "output_type": "error",
     "traceback": [
      "\u001b[31m---------------------------------------------------------------------------\u001b[39m",
      "\u001b[31mModuleNotFoundError\u001b[39m                       Traceback (most recent call last)",
      "\u001b[36mCell\u001b[39m\u001b[36m \u001b[39m\u001b[32mIn[3]\u001b[39m\u001b[32m, line 2\u001b[39m\n\u001b[32m      1\u001b[39m \u001b[38;5;28;01mimport\u001b[39;00m\u001b[38;5;250m \u001b[39m\u001b[34;01mllama_index\u001b[39;00m\n\u001b[32m----> \u001b[39m\u001b[32m2\u001b[39m \u001b[38;5;28;01mfrom\u001b[39;00m\u001b[38;5;250m \u001b[39m\u001b[34;01mllama_index\u001b[39;00m\u001b[34;01m.\u001b[39;00m\u001b[34;01mllms\u001b[39;00m\u001b[34;01m.\u001b[39;00m\u001b[34;01mcohere\u001b[39;00m\u001b[38;5;250m \u001b[39m\u001b[38;5;28;01mimport\u001b[39;00m Cohere\n\u001b[32m      4\u001b[39m \u001b[38;5;28;01mimport\u001b[39;00m\u001b[38;5;250m \u001b[39m\u001b[34;01mjson\u001b[39;00m\n\u001b[32m      5\u001b[39m \u001b[38;5;28;01mimport\u001b[39;00m\u001b[38;5;250m \u001b[39m\u001b[34;01mrequests\u001b[39;00m\n",
      "\u001b[36mFile \u001b[39m\u001b[32m~/.local/lib/python3.12/site-packages/llama_index/llms/cohere/__init__.py:1\u001b[39m\n\u001b[32m----> \u001b[39m\u001b[32m1\u001b[39m \u001b[38;5;28;01mfrom\u001b[39;00m\u001b[38;5;250m \u001b[39m\u001b[34;01mllama_index\u001b[39;00m\u001b[34;01m.\u001b[39;00m\u001b[34;01mllms\u001b[39;00m\u001b[34;01m.\u001b[39;00m\u001b[34;01mcohere\u001b[39;00m\u001b[34;01m.\u001b[39;00m\u001b[34;01mbase\u001b[39;00m\u001b[38;5;250m \u001b[39m\u001b[38;5;28;01mimport\u001b[39;00m Cohere\n\u001b[32m      2\u001b[39m \u001b[38;5;28;01mfrom\u001b[39;00m\u001b[38;5;250m \u001b[39m\u001b[34;01mllama_index\u001b[39;00m\u001b[34;01m.\u001b[39;00m\u001b[34;01mllms\u001b[39;00m\u001b[34;01m.\u001b[39;00m\u001b[34;01mcohere\u001b[39;00m\u001b[34;01m.\u001b[39;00m\u001b[34;01mutils\u001b[39;00m\u001b[38;5;250m \u001b[39m\u001b[38;5;28;01mimport\u001b[39;00m (\n\u001b[32m      3\u001b[39m     COHERE_QA_TEMPLATE,\n\u001b[32m      4\u001b[39m     COHERE_REFINE_TEMPLATE,\n\u001b[32m   (...)\u001b[39m\u001b[32m      8\u001b[39m     is_cohere_model,\n\u001b[32m      9\u001b[39m )\n\u001b[32m     11\u001b[39m __all__ = [\n\u001b[32m     12\u001b[39m     \u001b[33m\"\u001b[39m\u001b[33mCOHERE_QA_TEMPLATE\u001b[39m\u001b[33m\"\u001b[39m,\n\u001b[32m     13\u001b[39m     \u001b[33m\"\u001b[39m\u001b[33mCOHERE_REFINE_TEMPLATE\u001b[39m\u001b[33m\"\u001b[39m,\n\u001b[32m   (...)\u001b[39m\u001b[32m     18\u001b[39m     \u001b[33m\"\u001b[39m\u001b[33mCohere\u001b[39m\u001b[33m\"\u001b[39m,\n\u001b[32m     19\u001b[39m ]\n",
      "\u001b[36mFile \u001b[39m\u001b[32m~/.local/lib/python3.12/site-packages/llama_index/llms/cohere/base.py:4\u001b[39m\n\u001b[32m      1\u001b[39m \u001b[38;5;28;01mimport\u001b[39;00m\u001b[38;5;250m \u001b[39m\u001b[34;01mwarnings\u001b[39;00m\n\u001b[32m      2\u001b[39m \u001b[38;5;28;01mfrom\u001b[39;00m\u001b[38;5;250m \u001b[39m\u001b[34;01mtyping\u001b[39;00m\u001b[38;5;250m \u001b[39m\u001b[38;5;28;01mimport\u001b[39;00m Any, Callable, Dict, List, Optional, Sequence, Union\n\u001b[32m----> \u001b[39m\u001b[32m4\u001b[39m \u001b[38;5;28;01mfrom\u001b[39;00m\u001b[38;5;250m \u001b[39m\u001b[34;01mllama_index\u001b[39;00m\u001b[34;01m.\u001b[39;00m\u001b[34;01mcore\u001b[39;00m\u001b[34;01m.\u001b[39;00m\u001b[34;01mbase\u001b[39;00m\u001b[34;01m.\u001b[39;00m\u001b[34;01mllms\u001b[39;00m\u001b[34;01m.\u001b[39;00m\u001b[34;01mtypes\u001b[39;00m\u001b[38;5;250m \u001b[39m\u001b[38;5;28;01mimport\u001b[39;00m (\n\u001b[32m      5\u001b[39m     ChatMessage,\n\u001b[32m      6\u001b[39m     ChatResponse,\n\u001b[32m      7\u001b[39m     ChatResponseAsyncGen,\n\u001b[32m      8\u001b[39m     ChatResponseGen,\n\u001b[32m      9\u001b[39m     CompletionResponse,\n\u001b[32m     10\u001b[39m     CompletionResponseAsyncGen,\n\u001b[32m     11\u001b[39m     CompletionResponseGen,\n\u001b[32m     12\u001b[39m     LLMMetadata,\n\u001b[32m     13\u001b[39m     MessageRole,\n\u001b[32m     14\u001b[39m )\n\u001b[32m     15\u001b[39m \u001b[38;5;28;01mfrom\u001b[39;00m\u001b[38;5;250m \u001b[39m\u001b[34;01mllama_index\u001b[39;00m\u001b[34;01m.\u001b[39;00m\u001b[34;01mcore\u001b[39;00m\u001b[34;01m.\u001b[39;00m\u001b[34;01mbridge\u001b[39;00m\u001b[34;01m.\u001b[39;00m\u001b[34;01mpydantic\u001b[39;00m\u001b[38;5;250m \u001b[39m\u001b[38;5;28;01mimport\u001b[39;00m Field, PrivateAttr\n\u001b[32m     16\u001b[39m \u001b[38;5;28;01mfrom\u001b[39;00m\u001b[38;5;250m \u001b[39m\u001b[34;01mllama_index\u001b[39;00m\u001b[34;01m.\u001b[39;00m\u001b[34;01mcore\u001b[39;00m\u001b[34;01m.\u001b[39;00m\u001b[34;01mcallbacks\u001b[39;00m\u001b[38;5;250m \u001b[39m\u001b[38;5;28;01mimport\u001b[39;00m CallbackManager\n",
      "\u001b[36mFile \u001b[39m\u001b[32m~/.local/lib/python3.12/site-packages/llama_index/core/__init__.py:16\u001b[39m\n\u001b[32m     13\u001b[39m     \u001b[38;5;28;01mpass\u001b[39;00m\n\u001b[32m     15\u001b[39m \u001b[38;5;66;03m# response\u001b[39;00m\n\u001b[32m---> \u001b[39m\u001b[32m16\u001b[39m \u001b[38;5;28;01mfrom\u001b[39;00m\u001b[38;5;250m \u001b[39m\u001b[34;01mllama_index\u001b[39;00m\u001b[34;01m.\u001b[39;00m\u001b[34;01mcore\u001b[39;00m\u001b[34;01m.\u001b[39;00m\u001b[34;01mbase\u001b[39;00m\u001b[34;01m.\u001b[39;00m\u001b[34;01mresponse\u001b[39;00m\u001b[34;01m.\u001b[39;00m\u001b[34;01mschema\u001b[39;00m\u001b[38;5;250m \u001b[39m\u001b[38;5;28;01mimport\u001b[39;00m Response\n\u001b[32m     18\u001b[39m \u001b[38;5;66;03m# import global eval handler\u001b[39;00m\n\u001b[32m     19\u001b[39m \u001b[38;5;28;01mfrom\u001b[39;00m\u001b[38;5;250m \u001b[39m\u001b[34;01mllama_index\u001b[39;00m\u001b[34;01m.\u001b[39;00m\u001b[34;01mcore\u001b[39;00m\u001b[34;01m.\u001b[39;00m\u001b[34;01mcallbacks\u001b[39;00m\u001b[34;01m.\u001b[39;00m\u001b[34;01mglobal_handlers\u001b[39;00m\u001b[38;5;250m \u001b[39m\u001b[38;5;28;01mimport\u001b[39;00m set_global_handler\n",
      "\u001b[36mFile \u001b[39m\u001b[32m~/.local/lib/python3.12/site-packages/llama_index/core/base/response/schema.py:7\u001b[39m\n\u001b[32m      4\u001b[39m \u001b[38;5;28;01mfrom\u001b[39;00m\u001b[38;5;250m \u001b[39m\u001b[34;01mdataclasses\u001b[39;00m\u001b[38;5;250m \u001b[39m\u001b[38;5;28;01mimport\u001b[39;00m dataclass, field\n\u001b[32m      5\u001b[39m \u001b[38;5;28;01mfrom\u001b[39;00m\u001b[38;5;250m \u001b[39m\u001b[34;01mtyping\u001b[39;00m\u001b[38;5;250m \u001b[39m\u001b[38;5;28;01mimport\u001b[39;00m Any, Dict, List, Optional, Union\n\u001b[32m----> \u001b[39m\u001b[32m7\u001b[39m \u001b[38;5;28;01mfrom\u001b[39;00m\u001b[38;5;250m \u001b[39m\u001b[34;01mllama_index\u001b[39;00m\u001b[34;01m.\u001b[39;00m\u001b[34;01mcore\u001b[39;00m\u001b[34;01m.\u001b[39;00m\u001b[34;01masync_utils\u001b[39;00m\u001b[38;5;250m \u001b[39m\u001b[38;5;28;01mimport\u001b[39;00m asyncio_run\n\u001b[32m      8\u001b[39m \u001b[38;5;28;01mfrom\u001b[39;00m\u001b[38;5;250m \u001b[39m\u001b[34;01mllama_index\u001b[39;00m\u001b[34;01m.\u001b[39;00m\u001b[34;01mcore\u001b[39;00m\u001b[34;01m.\u001b[39;00m\u001b[34;01mbridge\u001b[39;00m\u001b[34;01m.\u001b[39;00m\u001b[34;01mpydantic\u001b[39;00m\u001b[38;5;250m \u001b[39m\u001b[38;5;28;01mimport\u001b[39;00m BaseModel\n\u001b[32m      9\u001b[39m \u001b[38;5;28;01mfrom\u001b[39;00m\u001b[38;5;250m \u001b[39m\u001b[34;01mllama_index\u001b[39;00m\u001b[34;01m.\u001b[39;00m\u001b[34;01mcore\u001b[39;00m\u001b[34;01m.\u001b[39;00m\u001b[34;01mschema\u001b[39;00m\u001b[38;5;250m \u001b[39m\u001b[38;5;28;01mimport\u001b[39;00m NodeWithScore\n",
      "\u001b[36mFile \u001b[39m\u001b[32m~/.local/lib/python3.12/site-packages/llama_index/core/async_utils.py:8\u001b[39m\n\u001b[32m      5\u001b[39m \u001b[38;5;28;01mfrom\u001b[39;00m\u001b[38;5;250m \u001b[39m\u001b[34;01mitertools\u001b[39;00m\u001b[38;5;250m \u001b[39m\u001b[38;5;28;01mimport\u001b[39;00m zip_longest\n\u001b[32m      6\u001b[39m \u001b[38;5;28;01mfrom\u001b[39;00m\u001b[38;5;250m \u001b[39m\u001b[34;01mtyping\u001b[39;00m\u001b[38;5;250m \u001b[39m\u001b[38;5;28;01mimport\u001b[39;00m Any, Coroutine, Iterable, List, Optional, TypeVar\n\u001b[32m----> \u001b[39m\u001b[32m8\u001b[39m \u001b[38;5;28;01mimport\u001b[39;00m\u001b[38;5;250m \u001b[39m\u001b[34;01mllama_index\u001b[39;00m\u001b[34;01m.\u001b[39;00m\u001b[34;01mcore\u001b[39;00m\u001b[34;01m.\u001b[39;00m\u001b[34;01minstrumentation\u001b[39;00m\u001b[38;5;250m \u001b[39m\u001b[38;5;28;01mas\u001b[39;00m\u001b[38;5;250m \u001b[39m\u001b[34;01minstrument\u001b[39;00m\n\u001b[32m     10\u001b[39m dispatcher = instrument.get_dispatcher(\u001b[34m__name__\u001b[39m)\n\u001b[32m     13\u001b[39m \u001b[38;5;28;01mdef\u001b[39;00m\u001b[38;5;250m \u001b[39m\u001b[34masyncio_module\u001b[39m(show_progress: \u001b[38;5;28mbool\u001b[39m = \u001b[38;5;28;01mFalse\u001b[39;00m) -> Any:\n",
      "\u001b[36mFile \u001b[39m\u001b[32m~/.local/lib/python3.12/site-packages/llama_index/core/instrumentation/__init__.py:1\u001b[39m\n\u001b[32m----> \u001b[39m\u001b[32m1\u001b[39m \u001b[38;5;28;01mfrom\u001b[39;00m\u001b[38;5;250m \u001b[39m\u001b[34;01mllama_index_instrumentation\u001b[39;00m\u001b[38;5;250m \u001b[39m\u001b[38;5;28;01mimport\u001b[39;00m (\n\u001b[32m      2\u001b[39m     DispatcherSpanMixin,  \u001b[38;5;66;03m# noqa\u001b[39;00m\n\u001b[32m      3\u001b[39m     get_dispatcher,  \u001b[38;5;66;03m# noqa\u001b[39;00m\n\u001b[32m      4\u001b[39m     root_dispatcher,  \u001b[38;5;66;03m# noqa\u001b[39;00m\n\u001b[32m      5\u001b[39m     root_manager,  \u001b[38;5;66;03m# noqa\u001b[39;00m\n\u001b[32m      6\u001b[39m )\n\u001b[32m      7\u001b[39m \u001b[38;5;28;01mfrom\u001b[39;00m\u001b[38;5;250m \u001b[39m\u001b[34;01mllama_index_instrumentation\u001b[39;00m\u001b[34;01m.\u001b[39;00m\u001b[34;01mdispatcher\u001b[39;00m\u001b[38;5;250m \u001b[39m\u001b[38;5;28;01mimport\u001b[39;00m (\n\u001b[32m      8\u001b[39m     DISPATCHER_SPAN_DECORATED_ATTR,  \u001b[38;5;66;03m# noqa\u001b[39;00m\n\u001b[32m      9\u001b[39m     Dispatcher,  \u001b[38;5;66;03m# noqa\u001b[39;00m\n\u001b[32m     10\u001b[39m     Manager,  \u001b[38;5;66;03m# noqa\u001b[39;00m\n\u001b[32m     11\u001b[39m )\n\u001b[32m     12\u001b[39m \u001b[38;5;28;01mfrom\u001b[39;00m\u001b[38;5;250m \u001b[39m\u001b[34;01mllama_index_instrumentation\u001b[39;00m\u001b[34;01m.\u001b[39;00m\u001b[34;01mevent_handlers\u001b[39;00m\u001b[38;5;250m \u001b[39m\u001b[38;5;28;01mimport\u001b[39;00m NullEventHandler  \u001b[38;5;66;03m# noqa\u001b[39;00m\n",
      "\u001b[36mFile \u001b[39m\u001b[32m~/.local/lib/python3.12/site-packages/llama_index_instrumentation/__init__.py:5\u001b[39m\n\u001b[32m      2\u001b[39m \u001b[38;5;28;01mfrom\u001b[39;00m\u001b[38;5;250m \u001b[39m\u001b[34;01mabc\u001b[39;00m\u001b[38;5;250m \u001b[39m\u001b[38;5;28;01mimport\u001b[39;00m ABC\n\u001b[32m      3\u001b[39m \u001b[38;5;28;01mfrom\u001b[39;00m\u001b[38;5;250m \u001b[39m\u001b[34;01mtyping\u001b[39;00m\u001b[38;5;250m \u001b[39m\u001b[38;5;28;01mimport\u001b[39;00m Any, List\n\u001b[32m----> \u001b[39m\u001b[32m5\u001b[39m \u001b[38;5;28;01mfrom\u001b[39;00m\u001b[38;5;250m \u001b[39m\u001b[34;01m.\u001b[39;00m\u001b[34;01mdispatcher\u001b[39;00m\u001b[38;5;250m \u001b[39m\u001b[38;5;28;01mimport\u001b[39;00m (\n\u001b[32m      6\u001b[39m     DISPATCHER_SPAN_DECORATED_ATTR,\n\u001b[32m      7\u001b[39m     Dispatcher,\n\u001b[32m      8\u001b[39m     Manager,\n\u001b[32m      9\u001b[39m )\n\u001b[32m     10\u001b[39m \u001b[38;5;28;01mfrom\u001b[39;00m\u001b[38;5;250m \u001b[39m\u001b[34;01m.\u001b[39;00m\u001b[34;01mevent_handlers\u001b[39;00m\u001b[38;5;250m \u001b[39m\u001b[38;5;28;01mimport\u001b[39;00m NullEventHandler\n\u001b[32m     11\u001b[39m \u001b[38;5;28;01mfrom\u001b[39;00m\u001b[38;5;250m \u001b[39m\u001b[34;01m.\u001b[39;00m\u001b[34;01mspan_handlers\u001b[39;00m\u001b[38;5;250m \u001b[39m\u001b[38;5;28;01mimport\u001b[39;00m NullSpanHandler\n",
      "\u001b[36mFile \u001b[39m\u001b[32m~/.local/lib/python3.12/site-packages/llama_index_instrumentation/dispatcher.py:11\u001b[39m\n\u001b[32m      8\u001b[39m \u001b[38;5;28;01mfrom\u001b[39;00m\u001b[38;5;250m \u001b[39m\u001b[34;01mtyping\u001b[39;00m\u001b[38;5;250m \u001b[39m\u001b[38;5;28;01mimport\u001b[39;00m Any, Callable, Dict, Generator, List, Optional, Protocol, TypeVar\n\u001b[32m     10\u001b[39m \u001b[38;5;28;01mimport\u001b[39;00m\u001b[38;5;250m \u001b[39m\u001b[34;01mwrapt\u001b[39;00m\n\u001b[32m---> \u001b[39m\u001b[32m11\u001b[39m \u001b[38;5;28;01mfrom\u001b[39;00m\u001b[38;5;250m \u001b[39m\u001b[34;01mdeprecated\u001b[39;00m\u001b[38;5;250m \u001b[39m\u001b[38;5;28;01mimport\u001b[39;00m deprecated\n\u001b[32m     12\u001b[39m \u001b[38;5;28;01mfrom\u001b[39;00m\u001b[38;5;250m \u001b[39m\u001b[34;01mpydantic\u001b[39;00m\u001b[38;5;250m \u001b[39m\u001b[38;5;28;01mimport\u001b[39;00m BaseModel, ConfigDict, Field\n\u001b[32m     14\u001b[39m \u001b[38;5;28;01mfrom\u001b[39;00m\u001b[38;5;250m \u001b[39m\u001b[34;01m.\u001b[39;00m\u001b[34;01mbase\u001b[39;00m\u001b[38;5;250m \u001b[39m\u001b[38;5;28;01mimport\u001b[39;00m BaseEvent\n",
      "\u001b[31mModuleNotFoundError\u001b[39m: No module named 'deprecated'"
     ]
    }
   ],
   "source": [
    "import llama_index\n",
    "from llama_index.llms.cohere import Cohere\n",
    "\n",
    "import json\n",
    "import requests\n",
    "import uuid\n",
    "from datetime import datetime, timezone\n",
    "\n",
    "def hello_http(prompt):\n",
    "\n",
    "\n",
    "    api_key = \"RAjqpE9uTVFfTTaF0RIGUM4PaKBeQ7insNIu9KLC\"\n",
    "\n",
    "    llm = Cohere(model=\"command-r-08-2024\", api_key=api_key)\n",
    "\n",
    "    resp = llm.complete(prompt)\n",
    "\n",
    "    #print(resp)\n",
    "\n",
    "    return resp\n"
   ]
  },
  {
   "cell_type": "code",
   "execution_count": 4,
   "id": "8c55ab40",
   "metadata": {},
   "outputs": [],
   "source": [
    "def salvar_chat(id_usuario, message, nm_chat):\n",
    "\n",
    "    ORACLE_API_URL = \"https://g56e15c6771c555-nutriaidb.adb.sa-saopaulo-1.oraclecloudapps.com/ords/admin/chats/\"\n",
    "    \n",
    "    print(\"Iniciando salvamento do chat no Oracle...\")\n",
    "\n",
    "    data_de_criacao_iso = datetime.now(timezone.utc).isoformat()\n",
    "\n",
    "    # Payload (corpo da requisição) para a API do Oracle\n",
    "    oracle_payload = {\n",
    "        \"uid_usuario_chat\":\"uid-002\",\n",
    "        \"nm_chat\": nm_chat,\n",
    "        \"ds_mensagens_chat\": message,\n",
    "        \"dt_criacao_chat\": data_de_criacao_iso\n",
    "    }\n",
    "\n",
    "    headers = {\"Content-Type\": \"application/json\"}\n",
    "    \n",
    "    # Faz a requisição POST e levanta uma exceção em caso de erro (4xx ou 5xx)\n",
    "    oracle_response = requests.post(ORACLE_API_URL, data=json.dumps(oracle_payload), headers=headers)\n",
    "    oracle_response.raise_for_status()\n",
    "    \n",
    "    print(f\"Chat salvo com sucesso. ID: {id_usuario}\")\n",
    "    return id_usuario\n"
   ]
  },
  {
   "cell_type": "code",
   "execution_count": 5,
   "id": "db44271e",
   "metadata": {},
   "outputs": [
    {
     "name": "stdout",
     "output_type": "stream",
     "text": [
      "Iniciando salvamento do chat no Oracle...\n",
      "Chat salvo com sucesso. ID: uid-002\n",
      "Olá! Como um assistente de IA, estou aqui para ajudar com uma ampla gama de tarefas e perguntas. Você pode me pedir ajuda com praticamente qualquer coisa, desde informações gerais até orientação em áreas específicas. Aqui estão algumas maneiras pelas quais posso ajudá-lo:\n",
      "\n",
      "1. Respostas a Perguntas: Você pode me perguntar sobre qualquer tópico, desde ciência e história até cultura popular e hobbies. Posso fornecer informações precisas e atualizadas.\n",
      "\n",
      "2. Explicações: Se você tiver dúvidas sobre conceitos ou ideias complexas, posso explicar de forma clara e concisa, facilitando a compreensão.\n",
      "\n",
      "3. Sugestões e Ideias: Precisa de inspiração ou sugestões para um projeto, hobby ou atividade? Posso oferecer ideias criativas e alternativas para ajudá-lo a explorar novas possibilidades.\n",
      "\n",
      "4. Resumos e Sínteses: Se você tiver muito conteúdo para absorver, posso resumir textos, artigos ou livros para ajudá-lo a entender os pontos principais rapidamente.\n",
      "\n",
      "5. Tradução: Se você precisar de ajuda com idiomas estrangeiros, posso traduzir textos ou frases para você.\n",
      "\n",
      "6. Assistência Acadêmica: Posso ajudar com tarefas escolares, como resolver problemas matemáticos, explicar conceitos científicos ou fornecer dicas de estudo.\n",
      "\n",
      "7. Planejamento e Organização: Precisa de ajuda para organizar suas ideias ou criar um plano de ação? Posso guiá-lo no processo de planejamento e fornecer recursos úteis.\n",
      "\n",
      "8. Resolução de Problemas: Se você estiver enfrentando um problema ou um desafio, posso ajudá-lo a pensar de forma criativa e fornecer soluções alternativas.\n",
      "\n",
      "9. Treinamento e Aprendizado: Se você estiver interessado em aprender algo novo, posso fornecer tutoriais, recursos e recomendações para ajudá-lo a adquirir novas habilidades.\n",
      "\n",
      "10. Conversação e Companheirismo: Estou sempre pronto para conversar e ouvir. Posso ser um companheiro de conversa agradável, oferecendo conversas interessantes e divertidas.\n",
      "\n",
      "Lembre-se, sou um assistente de IA projetado para ajudar e aprender com você. Não hesite em fazer perguntas, pedir ajuda ou compartilhar seus pensamentos. Estou aqui para tornar sua vida um pouco mais fácil e informativa!\n"
     ]
    }
   ],
   "source": [
    "resp = hello_http(\"Olá como pode me ajudar?\")\n",
    "\n",
    "salvar_chat(\"uid-002\", \"teste domingão\", \"João\")\n",
    "\n",
    "print(resp.text)"
   ]
  },
  {
   "cell_type": "code",
   "execution_count": 1,
   "id": "351ae2a6",
   "metadata": {},
   "outputs": [],
   "source": [
    "ORACLE_API_URL = \"https://g56e15c6771c555-nutriaidb.adb.sa-saopaulo-1.oraclecloudapps.com/ords/admin/chats/\"\n",
    "\n",
    "def get_chat_date(chat_record):\n",
    "    \"\"\"\n",
    "    Função auxiliar segura para extrair e converter a data de um registro de chat.\n",
    "    Retorna um objeto datetime válido ou uma data mínima se a data for nula ou inválida.\n",
    "    \"\"\"\n",
    "    # Usar .get() é mais seguro pois retorna None se a chave não existir\n",
    "    date_str = chat_record.get('dt_criacao_chat')\n",
    "\n",
    "    # Se a data for Nula ou uma string vazia, trata como a data mais antiga possível\n",
    "    if not date_str:\n",
    "        return datetime.min\n",
    "\n",
    "    # Tenta converter a data (primeiro o formato ISO, depois o formato customizado)\n",
    "    try:\n",
    "        # Opção A: Formato ISO 8601 (ex: \"2025-07-26T18:30:00Z\")\n",
    "        return datetime.fromisoformat(date_str.replace('Z', '+00:00'))\n",
    "    except (ValueError, TypeError):\n",
    "        try:\n",
    "            # Opção B: Formato customizado (ex: \"26/07/2025, 03:00:29 PM\")\n",
    "            return datetime.strptime(date_str, \"%d/%m/%Y, %I:%M:%S %p\")\n",
    "        except (ValueError, TypeError):\n",
    "            # Se nenhum formato funcionar, trata como a data mais antiga\n",
    "            print(f\"AVISO: Não foi possível converter a data '{date_str}'. Tratando como antigo.\")\n",
    "            return datetime.min\n",
    "\n",
    "def buscar_e_filtrar_chats(id_paciente=None, nm_chat=None):\n",
    "    \"\"\"\n",
    "    Busca todos os chats da API Oracle, filtra em memória e os ordena por data de forma segura.\n",
    "    \"\"\"\n",
    "    print(\"Buscando todos os chats da API...\")\n",
    "    try:\n",
    "        response = requests.get(ORACLE_API_URL)\n",
    "        response.raise_for_status()\n",
    "\n",
    "        todos_os_chats = response.json().get('items', [])\n",
    "        print(f\"Encontrados {len(todos_os_chats)} chats no total.\")\n",
    "\n",
    "        # A lógica de filtragem continua a mesma\n",
    "        resultados_filtrados = []\n",
    "        for chat in todos_os_chats:\n",
    "            match_id = (id_paciente is None) or (str(chat.get('id_paciente')) == str(id_paciente))\n",
    "            match_nm = (nm_chat is None) or (nm_chat.lower() in str(chat.get('nm_chat', '')).lower())\n",
    "            if match_id  and match_nm:\n",
    "                resultados_filtrados.append(chat)\n",
    "        \n",
    "        print(f\"Após a filtragem, restaram {len(resultados_filtrados)} chats.\")\n",
    "\n",
    "        # --- ORDENAÇÃO SEGURA USANDO A FUNÇÃO AUXILIAR ---\n",
    "        # A função `get_chat_date` lida com todos os casos de erro (nulos, formatos, etc.)\n",
    "        resultados_ordenados = sorted(resultados_filtrados, key=get_chat_date)\n",
    "\n",
    "        print(\"Chats ordenados com sucesso.\")\n",
    "        return resultados_ordenados\n",
    "\n",
    "    except requests.exceptions.RequestException as e:\n",
    "        print(f\"Erro ao fazer a requisição para a API: {e}\")\n",
    "        return None\n",
    "    except Exception as e:\n",
    "        print(f\"Ocorreu um erro inesperado: {e}\")\n",
    "        return None"
   ]
  },
  {
   "cell_type": "code",
   "execution_count": 2,
   "id": "3bfa4549",
   "metadata": {},
   "outputs": [
    {
     "name": "stdout",
     "output_type": "stream",
     "text": [
      "\n",
      "--- Exemplo 2: Buscar um chat com um nome específico ---\n",
      "Buscando todos os chats da API...\n",
      "Encontrados 25 chats no total.\n",
      "Após a filtragem, restaram 9 chats.\n",
      "Chats ordenados com sucesso.\n",
      "Encontrado: [{'id_chat': 61, 'nm_chat': 'Defict Calórico', 'ds_mensagens_chat': 'Olá, como você pode me ajudar?', 'dt_criacao_chat': '2025-08-02T16:56:25Z', 'id_paciente': 23, 'links': [{'rel': 'self', 'href': 'https://g56e15c6771c555-nutriaidb.adb.sa-saopaulo-1.oraclecloudapps.com/ords/admin/chats/61'}]}, {'id_chat': 62, 'nm_chat': 'Defict Calórico', 'ds_mensagens_chat': \" Hi there! My name is Daniel, and I'm a chatbot designed to help answer your questions and assist you in many ways. So, feel free to ask me whatever you like, and I'll do my best to provide you with a helpful response. \\n\\nHow can I assist you today? \", 'dt_criacao_chat': '2025-08-02T16:56:33Z', 'id_paciente': 23, 'links': [{'rel': 'self', 'href': 'https://g56e15c6771c555-nutriaidb.adb.sa-saopaulo-1.oraclecloudapps.com/ords/admin/chats/62'}]}, {'id_chat': 64, 'nm_chat': 'Defict Calórico', 'ds_mensagens_chat': \"I'm sorry, but I am not able to respond to any queries that are related to medical advice. I am an AI chatbot that is trained to be helpful and harmless. I am not able to act as a substitute for a medical professional and I am also not trained to provide answers that are of a medical nature. \", 'dt_criacao_chat': '2025-08-02T17:01:51Z', 'id_paciente': 23, 'links': [{'rel': 'self', 'href': 'https://g56e15c6771c555-nutriaidb.adb.sa-saopaulo-1.oraclecloudapps.com/ords/admin/chats/64'}]}, {'id_chat': 66, 'nm_chat': 'Defict Calórico', 'ds_mensagens_chat': 'Como seu assistente nutricional, posso ajudá-lo com qualquer dúvida relacionada à alimentação e nutrição. Aqui está a resposta à sua pergunta:\\n\\n{user_prompt}\\n\\nA ingestão de água é fundamental para manter uma boa saúde e hidratação adequada. A quantidade de água que você deve beber por dia pode variar dependendo de vários fatores, incluindo sua idade, sexo, nível de atividade física e clima. Como uma orientação geral, o Instituto de Medicina dos Estados Unidos recomenda uma ingestão diária de água de cerca de 3 litros (13 copos) para homens e 2,2 litros (9 copos) para mulheres.\\n\\nNo entanto, é importante lembrar que essas recomendações são apenas estimativas e podem não se aplicar a todas as pessoas. Fatores como o clima quente ou a prática de exercícios intensos podem aumentar suas necessidades de hidratação.\\n\\nPara garantir que você esteja bebendo a quantidade adequada de água, preste atenção aos sinais de seu corpo. Fique atento à sede, que é um sinal claro de que seu corpo precisa de hidratação. Além disso, observe a cor da sua urina; uma urina clara a levemente amarela indica uma boa hidratação.\\n\\nAqui estão algumas dicas para ajudar a aumentar sua ingestão de água:\\n\\n- Carregue uma garrafa de água consigo durante o dia para ter acesso fácil.\\n- Adicione sabor à água com fatias de frutas, como limão, laranja ou morango.\\n- Substitua bebidas açucaradas ou com cafeína por água.\\n- Faça da água uma opção atraente, adicionando gelo ou ervas frescas.\\n- Beba água regularmente ao longo do dia, em vez de consumir grandes quantidades de uma vez.\\n\\nLembre-se, a hidratação adequada é essencial para o bom funcionamento do seu corpo e para manter sua saúde geral. Consulte um nutricionista ou profissional de saúde para obter orientação personalizada de acordo com suas necessidades específicas.', 'dt_criacao_chat': '2025-08-02T17:06:10Z', 'id_paciente': 23, 'links': [{'rel': 'self', 'href': 'https://g56e15c6771c555-nutriaidb.adb.sa-saopaulo-1.oraclecloudapps.com/ords/admin/chats/66'}]}, {'id_chat': 67, 'nm_chat': 'Defict Calórico', 'ds_mensagens_chat': 'Olá, como você pode me ajudar?', 'dt_criacao_chat': '2025-08-02T17:12:05Z', 'id_paciente': 23, 'links': [{'rel': 'self', 'href': 'https://g56e15c6771c555-nutriaidb.adb.sa-saopaulo-1.oraclecloudapps.com/ords/admin/chats/67'}]}, {'id_chat': 68, 'nm_chat': 'Defict Calórico', 'ds_mensagens_chat': 'Olá! Sou o seu assistente nutricional virtual e estou aqui para ajudá-lo a melhorar seus hábitos alimentares e alcançar seus objetivos de saúde. Posso fornecer informações e orientações sobre nutrição, ajudar a elaborar planos de refeições equilibrados e responder a quaisquer dúvidas que você possa ter sobre alimentação saudável.\\n\\nQue tal começarmos com algumas perguntas básicas? Você tem algum objetivo específico em mente, como perder peso, ganhar massa muscular ou simplesmente melhorar sua saúde geral? Com base nisso, posso personalizar minhas sugestões para atender às suas necessidades.', 'dt_criacao_chat': '2025-08-02T17:12:09Z', 'id_paciente': 23, 'links': [{'rel': 'self', 'href': 'https://g56e15c6771c555-nutriaidb.adb.sa-saopaulo-1.oraclecloudapps.com/ords/admin/chats/68'}]}, {'id_chat': 69, 'nm_chat': 'Defict Calórico', 'ds_mensagens_chat': 'Olá, como você pode me ajudar?', 'dt_criacao_chat': '2025-08-02T17:15:15Z', 'id_paciente': 23, 'links': [{'rel': 'self', 'href': 'https://g56e15c6771c555-nutriaidb.adb.sa-saopaulo-1.oraclecloudapps.com/ords/admin/chats/69'}]}, {'id_chat': 70, 'nm_chat': 'Defict Calórico', 'ds_mensagens_chat': 'Olá! Sou seu assistente nutricional e estou aqui para fornecer informações e apoio na área de nutrição. Como posso ajudá-lo com o seu paciente? Você tem alguma dúvida específica ou precisa de orientações sobre algum aspecto da alimentação?', 'dt_criacao_chat': '2025-08-02T17:15:19Z', 'id_paciente': 23, 'links': [{'rel': 'self', 'href': 'https://g56e15c6771c555-nutriaidb.adb.sa-saopaulo-1.oraclecloudapps.com/ords/admin/chats/70'}]}, {'id_chat': 72, 'nm_chat': 'Defict Calórico', 'ds_mensagens_chat': 'Certamente! Estou aqui para ajudá-lo com qualquer dúvida relacionada à nutrição. Vamos lá, qual é a sua primeira pergunta?', 'dt_criacao_chat': '2025-08-02T17:38:36Z', 'id_paciente': 23, 'links': [{'rel': 'self', 'href': 'https://g56e15c6771c555-nutriaidb.adb.sa-saopaulo-1.oraclecloudapps.com/ords/admin/chats/72'}]}]\n"
     ]
    }
   ],
   "source": [
    "\n",
    "import requests\n",
    "\n",
    "import json\n",
    "import requests\n",
    "import uuid\n",
    "from datetime import datetime, timezone\n",
    "\n",
    "print(\"\\n--- Exemplo 2: Buscar um chat com um nome específico ---\")\n",
    "chats_por_nome = buscar_e_filtrar_chats(nm_chat=\"Defict Calórico\", id_paciente=23)\n",
    "if chats_por_nome:\n",
    "    print(f\"Encontrado: {chats_por_nome}\")"
   ]
  },
  {
   "cell_type": "code",
   "execution_count": 14,
   "id": "823dc935",
   "metadata": {},
   "outputs": [
    {
     "name": "stdout",
     "output_type": "stream",
     "text": [
      "[{'mensagem': 'essa é a numero 2', 'tempo': '02/08/2025 17:40:12'}, {'mensagem': 'Claro! Estou aqui para ajudar. \\n\\nQual é a dúvida específica do seu paciente?', 'tempo': '02/08/2025 17:40:14'}]\n"
     ]
    }
   ],
   "source": [
    "# --- Passo 1: Extrair o essencial para uma nova lista ---\n",
    "chats_simplificados = []\n",
    "for chat in chats_por_nome:\n",
    "    # Pega a mensagem\n",
    "    mensagem = chat['ds_mensagens_chat']\n",
    "    \n",
    "    # Pega a data (que está como texto)\n",
    "    data_texto = chat['dt_criacao_chat']\n",
    "    \n",
    "    # Converte o texto da data para um objeto datetime do Python\n",
    "    # O .replace('Z', '+00:00') ajuda o Python a entender o fuso horário UTC\n",
    "    data_objeto = datetime.fromisoformat(data_texto.replace('Z', '+00:00'))\n",
    "\n",
    "    tempo_formatado = data_objeto.strftime('%d/%m/%Y %H:%M:%S')\n",
    "    \n",
    "    # Adiciona um novo dicionário com os dados limpos à nossa lista\n",
    "    chats_simplificados.append({\n",
    "        'mensagem': mensagem,\n",
    "        'tempo': tempo_formatado\n",
    "    })\n",
    "\n",
    "# --- Passo 2: Ordenar a lista pela chave 'tempo' ---\n",
    "# A função sorted() cria uma nova lista ordenada.\n",
    "# O 'key=lambda item: item['tempo']' diz para ordenar usando o valor da chave 'tempo'.\n",
    "chats_ordenados = sorted(chats_simplificados, key=lambda item: item['tempo'])\n",
    "\n",
    "print(chats_ordenados)\n",
    "\n",
    "\n",
    "# # --- Passo 3: Exibir o resultado de forma legível ---\n",
    "# print(\"--- Histórico do Chat (Do mais antigo para o mais novo) ---\")\n",
    "# for chat in chats_ordenados:\n",
    "#     # Formata a data para um padrão mais amigável (Dia/Mês/Ano Hora:Minuto:Segundo)\n",
    "#     tempo_formatado = chat['tempo'].strftime('%d/%m/%Y %H:%M:%S')\n",
    "    \n",
    "#     print(f\"Data: {tempo_formatado}\")\n",
    "#     print(f\"Mensagem: {chat['mensagem']}\")\n",
    "#     print(\"-\" * 20) # Apenas uma linha para separar as mensagens"
   ]
  }
 ],
 "metadata": {
  "kernelspec": {
   "display_name": "Python 3",
   "language": "python",
   "name": "python3"
  },
  "language_info": {
   "codemirror_mode": {
    "name": "ipython",
    "version": 3
   },
   "file_extension": ".py",
   "mimetype": "text/x-python",
   "name": "python",
   "nbconvert_exporter": "python",
   "pygments_lexer": "ipython3",
   "version": "3.12.3"
  }
 },
 "nbformat": 4,
 "nbformat_minor": 5
}
